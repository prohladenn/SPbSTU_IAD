{
 "cells": [
  {
   "cell_type": "markdown",
   "metadata": {},
   "source": [
    "# Last FM hometask <br>\n",
    "https://www.kaggle.com/ravichaubey1506/lastfm <br>\n",
    "<ol>\n",
    "<li>Выбрать данные по странам своей группы (совместно): <br>\n",
    "    3530203_70101: Germany, Netherlands <br>\n",
    "    3530203_70102: Belarus, Ukraine, Poland, Russian Federation<br>\n",
    "    3530903_70301: Sweden, Finland, Norway, Denmark, Iceland<br>\n",
    "    3530903_70302: Spain, Portugal, France, Italy, Belgium<br>\n",
    "<li>Попытаться найти полезные с точки зрения продвижения групп (или еще чего-нибудь) и нетривиальные правила, используя алгоритмы Apriori, FPGrowth, FPMax и всевозможные метрики. Хотя бы 5 правил.\n",
    "<li>Вывести эти правила в отдельных ячейках. \n",
    "<li>Подумать, как можно было бы использовать полученные правила.\n",
    "</ol>"
   ]
  },
  {
   "cell_type": "code",
   "execution_count": 1,
   "metadata": {},
   "outputs": [],
   "source": [
    "from mlxtend.frequent_patterns import apriori, association_rules, fpgrowth, fpmax\n",
    "import pandas as pd"
   ]
  },
  {
   "cell_type": "code",
   "execution_count": 2,
   "metadata": {},
   "outputs": [
    {
     "output_type": "execute_result",
     "data": {
      "text/plain": [
       "   user                   artist sex  country\n",
       "0     1    red hot chili peppers   f  Germany\n",
       "1     1  the black dahlia murder   f  Germany\n",
       "2     1                goldfrapp   f  Germany\n",
       "3     1         dropkick murphys   f  Germany\n",
       "4     1                 le tigre   f  Germany"
      ],
      "text/html": "<div>\n<style scoped>\n    .dataframe tbody tr th:only-of-type {\n        vertical-align: middle;\n    }\n\n    .dataframe tbody tr th {\n        vertical-align: top;\n    }\n\n    .dataframe thead th {\n        text-align: right;\n    }\n</style>\n<table border=\"1\" class=\"dataframe\">\n  <thead>\n    <tr style=\"text-align: right;\">\n      <th></th>\n      <th>user</th>\n      <th>artist</th>\n      <th>sex</th>\n      <th>country</th>\n    </tr>\n  </thead>\n  <tbody>\n    <tr>\n      <th>0</th>\n      <td>1</td>\n      <td>red hot chili peppers</td>\n      <td>f</td>\n      <td>Germany</td>\n    </tr>\n    <tr>\n      <th>1</th>\n      <td>1</td>\n      <td>the black dahlia murder</td>\n      <td>f</td>\n      <td>Germany</td>\n    </tr>\n    <tr>\n      <th>2</th>\n      <td>1</td>\n      <td>goldfrapp</td>\n      <td>f</td>\n      <td>Germany</td>\n    </tr>\n    <tr>\n      <th>3</th>\n      <td>1</td>\n      <td>dropkick murphys</td>\n      <td>f</td>\n      <td>Germany</td>\n    </tr>\n    <tr>\n      <th>4</th>\n      <td>1</td>\n      <td>le tigre</td>\n      <td>f</td>\n      <td>Germany</td>\n    </tr>\n  </tbody>\n</table>\n</div>"
     },
     "metadata": {},
     "execution_count": 2
    }
   ],
   "source": [
    "data = pd.read_csv(\"lastfm.csv\")\n",
    "data.head()"
   ]
  },
  {
   "cell_type": "code",
   "execution_count": 3,
   "metadata": {},
   "outputs": [
    {
     "output_type": "execute_result",
     "data": {
      "text/plain": [
       "         user               artist sex   country\n",
       "83          6           lily allen   m  Portugal\n",
       "84          6           kanye west   m  Portugal\n",
       "85          6            sigur rós   m  Portugal\n",
       "86          6           pink floyd   m  Portugal\n",
       "87          6        stevie wonder   m  Portugal\n",
       "...       ...                  ...  ..       ...\n",
       "289758  19707     the decemberists   m     Spain\n",
       "289759  19707  my bloody valentine   m     Spain\n",
       "289760  19707           bloc party   m     Spain\n",
       "289761  19707            new order   m     Spain\n",
       "289762  19707       arctic monkeys   m     Spain\n",
       "\n",
       "[27155 rows x 4 columns]"
      ],
      "text/html": "<div>\n<style scoped>\n    .dataframe tbody tr th:only-of-type {\n        vertical-align: middle;\n    }\n\n    .dataframe tbody tr th {\n        vertical-align: top;\n    }\n\n    .dataframe thead th {\n        text-align: right;\n    }\n</style>\n<table border=\"1\" class=\"dataframe\">\n  <thead>\n    <tr style=\"text-align: right;\">\n      <th></th>\n      <th>user</th>\n      <th>artist</th>\n      <th>sex</th>\n      <th>country</th>\n    </tr>\n  </thead>\n  <tbody>\n    <tr>\n      <th>83</th>\n      <td>6</td>\n      <td>lily allen</td>\n      <td>m</td>\n      <td>Portugal</td>\n    </tr>\n    <tr>\n      <th>84</th>\n      <td>6</td>\n      <td>kanye west</td>\n      <td>m</td>\n      <td>Portugal</td>\n    </tr>\n    <tr>\n      <th>85</th>\n      <td>6</td>\n      <td>sigur rós</td>\n      <td>m</td>\n      <td>Portugal</td>\n    </tr>\n    <tr>\n      <th>86</th>\n      <td>6</td>\n      <td>pink floyd</td>\n      <td>m</td>\n      <td>Portugal</td>\n    </tr>\n    <tr>\n      <th>87</th>\n      <td>6</td>\n      <td>stevie wonder</td>\n      <td>m</td>\n      <td>Portugal</td>\n    </tr>\n    <tr>\n      <th>...</th>\n      <td>...</td>\n      <td>...</td>\n      <td>...</td>\n      <td>...</td>\n    </tr>\n    <tr>\n      <th>289758</th>\n      <td>19707</td>\n      <td>the decemberists</td>\n      <td>m</td>\n      <td>Spain</td>\n    </tr>\n    <tr>\n      <th>289759</th>\n      <td>19707</td>\n      <td>my bloody valentine</td>\n      <td>m</td>\n      <td>Spain</td>\n    </tr>\n    <tr>\n      <th>289760</th>\n      <td>19707</td>\n      <td>bloc party</td>\n      <td>m</td>\n      <td>Spain</td>\n    </tr>\n    <tr>\n      <th>289761</th>\n      <td>19707</td>\n      <td>new order</td>\n      <td>m</td>\n      <td>Spain</td>\n    </tr>\n    <tr>\n      <th>289762</th>\n      <td>19707</td>\n      <td>arctic monkeys</td>\n      <td>m</td>\n      <td>Spain</td>\n    </tr>\n  </tbody>\n</table>\n<p>27155 rows × 4 columns</p>\n</div>"
     },
     "metadata": {},
     "execution_count": 3
    }
   ],
   "source": [
    "countries = ['Spain', 'Portugal', 'France', 'Italy', 'Belgium']\n",
    "data = data.loc[data['country'].isin(countries)]\n",
    "data = data.drop(data[data['artist']=='[unknown]'].index)\n",
    "data"
   ]
  },
  {
   "cell_type": "code",
   "execution_count": 4,
   "metadata": {},
   "outputs": [
    {
     "output_type": "execute_result",
     "data": {
      "text/plain": [
       "       user sex   country                                             artist\n",
       "0         6   m  Portugal  lily allen;kanye west;sigur rós;pink floyd;ste...\n",
       "1        12   m     Italy  queen;the beatles;lynyrd skynyrd;neil young;th...\n",
       "2        36   f     Italy  m.i.a.;fugazi;johnny cash;clint mansell;elton ...\n",
       "3        47   m     Italy  pj harvey;radiohead;zero 7;einstürzende neubau...\n",
       "4        74   m     Spain  in extremo;nine inch nails;billy talent;panic!...\n",
       "...     ...  ..       ...                                                ...\n",
       "1412  19690   m     Italy  pink floyd;the beatles;the white stripes;depec...\n",
       "1413  19693   m   Belgium  air;simon & garfunkel;pixies;serge gainsbourg;...\n",
       "1414  19697   m   Belgium  underworld;pendulum;the prodigy;sufjan stevens...\n",
       "1415  19704   m     Italy  keane;pinback;coldplay;travis;calexico;doves;d...\n",
       "1416  19707   m     Spain  bat for lashes;mogwai;arcade fire;cat power;th...\n",
       "\n",
       "[1417 rows x 4 columns]"
      ],
      "text/html": "<div>\n<style scoped>\n    .dataframe tbody tr th:only-of-type {\n        vertical-align: middle;\n    }\n\n    .dataframe tbody tr th {\n        vertical-align: top;\n    }\n\n    .dataframe thead th {\n        text-align: right;\n    }\n</style>\n<table border=\"1\" class=\"dataframe\">\n  <thead>\n    <tr style=\"text-align: right;\">\n      <th></th>\n      <th>user</th>\n      <th>sex</th>\n      <th>country</th>\n      <th>artist</th>\n    </tr>\n  </thead>\n  <tbody>\n    <tr>\n      <th>0</th>\n      <td>6</td>\n      <td>m</td>\n      <td>Portugal</td>\n      <td>lily allen;kanye west;sigur rós;pink floyd;ste...</td>\n    </tr>\n    <tr>\n      <th>1</th>\n      <td>12</td>\n      <td>m</td>\n      <td>Italy</td>\n      <td>queen;the beatles;lynyrd skynyrd;neil young;th...</td>\n    </tr>\n    <tr>\n      <th>2</th>\n      <td>36</td>\n      <td>f</td>\n      <td>Italy</td>\n      <td>m.i.a.;fugazi;johnny cash;clint mansell;elton ...</td>\n    </tr>\n    <tr>\n      <th>3</th>\n      <td>47</td>\n      <td>m</td>\n      <td>Italy</td>\n      <td>pj harvey;radiohead;zero 7;einstürzende neubau...</td>\n    </tr>\n    <tr>\n      <th>4</th>\n      <td>74</td>\n      <td>m</td>\n      <td>Spain</td>\n      <td>in extremo;nine inch nails;billy talent;panic!...</td>\n    </tr>\n    <tr>\n      <th>...</th>\n      <td>...</td>\n      <td>...</td>\n      <td>...</td>\n      <td>...</td>\n    </tr>\n    <tr>\n      <th>1412</th>\n      <td>19690</td>\n      <td>m</td>\n      <td>Italy</td>\n      <td>pink floyd;the beatles;the white stripes;depec...</td>\n    </tr>\n    <tr>\n      <th>1413</th>\n      <td>19693</td>\n      <td>m</td>\n      <td>Belgium</td>\n      <td>air;simon &amp; garfunkel;pixies;serge gainsbourg;...</td>\n    </tr>\n    <tr>\n      <th>1414</th>\n      <td>19697</td>\n      <td>m</td>\n      <td>Belgium</td>\n      <td>underworld;pendulum;the prodigy;sufjan stevens...</td>\n    </tr>\n    <tr>\n      <th>1415</th>\n      <td>19704</td>\n      <td>m</td>\n      <td>Italy</td>\n      <td>keane;pinback;coldplay;travis;calexico;doves;d...</td>\n    </tr>\n    <tr>\n      <th>1416</th>\n      <td>19707</td>\n      <td>m</td>\n      <td>Spain</td>\n      <td>bat for lashes;mogwai;arcade fire;cat power;th...</td>\n    </tr>\n  </tbody>\n</table>\n<p>1417 rows × 4 columns</p>\n</div>"
     },
     "metadata": {},
     "execution_count": 4
    }
   ],
   "source": [
    "complex_data = data.groupby(['user', 'sex', 'country'])['artist'].apply(lambda x: ';'.join(x)).reset_index()\n",
    "complex_data"
   ]
  },
  {
   "cell_type": "code",
   "execution_count": 5,
   "metadata": {},
   "outputs": [
    {
     "output_type": "execute_result",
     "data": {
      "text/plain": [
       "       f  m  Belgium  France  Italy  Portugal  Spain  \\\n",
       "user                                                   \n",
       "6      0  1        0       0      0         1      0   \n",
       "12     0  1        0       0      1         0      0   \n",
       "36     1  0        0       0      1         0      0   \n",
       "47     0  1        0       0      1         0      0   \n",
       "74     0  1        0       0      0         0      1   \n",
       "...   .. ..      ...     ...    ...       ...    ...   \n",
       "19690  0  1        0       0      1         0      0   \n",
       "19693  0  1        1       0      0         0      0   \n",
       "19697  0  1        1       0      0         0      0   \n",
       "19704  0  1        0       0      1         0      0   \n",
       "19707  0  1        0       0      0         0      1   \n",
       "\n",
       "       ...and you will know us by the trail of dead  2pac  3 doors down  ...  \\\n",
       "user                                                                     ...   \n",
       "6                                                 0     0             0  ...   \n",
       "12                                                0     0             0  ...   \n",
       "36                                                0     0             0  ...   \n",
       "47                                                0     0             0  ...   \n",
       "74                                                0     0             0  ...   \n",
       "...                                             ...   ...           ...  ...   \n",
       "19690                                             0     0             0  ...   \n",
       "19693                                             0     0             0  ...   \n",
       "19697                                             0     0             0  ...   \n",
       "19704                                             0     0             0  ...   \n",
       "19707                                             0     0             0  ...   \n",
       "\n",
       "       wilco  within temptation  wolfgang amadeus mozart  wu-tang clan  \\\n",
       "user                                                                     \n",
       "6          0                  0                        0             0   \n",
       "12         0                  0                        0             0   \n",
       "36         0                  0                        0             0   \n",
       "47         0                  0                        0             0   \n",
       "74         0                  0                        0             0   \n",
       "...      ...                ...                      ...           ...   \n",
       "19690      0                  0                        0             0   \n",
       "19693      0                  0                        0             0   \n",
       "19697      0                  0                        0             0   \n",
       "19704      0                  0                        0             0   \n",
       "19707      0                  0                        0             0   \n",
       "\n",
       "       yann tiersen  yeah yeah yeahs  yellowcard  yo la tengo  zero 7  \\\n",
       "user                                                                    \n",
       "6                 0                0           0            0       0   \n",
       "12                0                0           0            0       0   \n",
       "36                0                0           0            0       0   \n",
       "47                0                0           0            0       1   \n",
       "74                0                0           0            0       0   \n",
       "...             ...              ...         ...          ...     ...   \n",
       "19690             0                0           0            0       0   \n",
       "19693             0                0           0            0       0   \n",
       "19697             0                0           0            0       0   \n",
       "19704             0                0           0            0       0   \n",
       "19707             0                0           0            0       0   \n",
       "\n",
       "       Édith piaf  \n",
       "user               \n",
       "6               0  \n",
       "12              0  \n",
       "36              0  \n",
       "47              0  \n",
       "74              0  \n",
       "...           ...  \n",
       "19690           0  \n",
       "19693           0  \n",
       "19697           0  \n",
       "19704           0  \n",
       "19707           0  \n",
       "\n",
       "[1417 rows x 1000 columns]"
      ],
      "text/html": "<div>\n<style scoped>\n    .dataframe tbody tr th:only-of-type {\n        vertical-align: middle;\n    }\n\n    .dataframe tbody tr th {\n        vertical-align: top;\n    }\n\n    .dataframe thead th {\n        text-align: right;\n    }\n</style>\n<table border=\"1\" class=\"dataframe\">\n  <thead>\n    <tr style=\"text-align: right;\">\n      <th></th>\n      <th>f</th>\n      <th>m</th>\n      <th>Belgium</th>\n      <th>France</th>\n      <th>Italy</th>\n      <th>Portugal</th>\n      <th>Spain</th>\n      <th>...and you will know us by the trail of dead</th>\n      <th>2pac</th>\n      <th>3 doors down</th>\n      <th>...</th>\n      <th>wilco</th>\n      <th>within temptation</th>\n      <th>wolfgang amadeus mozart</th>\n      <th>wu-tang clan</th>\n      <th>yann tiersen</th>\n      <th>yeah yeah yeahs</th>\n      <th>yellowcard</th>\n      <th>yo la tengo</th>\n      <th>zero 7</th>\n      <th>Édith piaf</th>\n    </tr>\n    <tr>\n      <th>user</th>\n      <th></th>\n      <th></th>\n      <th></th>\n      <th></th>\n      <th></th>\n      <th></th>\n      <th></th>\n      <th></th>\n      <th></th>\n      <th></th>\n      <th></th>\n      <th></th>\n      <th></th>\n      <th></th>\n      <th></th>\n      <th></th>\n      <th></th>\n      <th></th>\n      <th></th>\n      <th></th>\n      <th></th>\n    </tr>\n  </thead>\n  <tbody>\n    <tr>\n      <th>6</th>\n      <td>0</td>\n      <td>1</td>\n      <td>0</td>\n      <td>0</td>\n      <td>0</td>\n      <td>1</td>\n      <td>0</td>\n      <td>0</td>\n      <td>0</td>\n      <td>0</td>\n      <td>...</td>\n      <td>0</td>\n      <td>0</td>\n      <td>0</td>\n      <td>0</td>\n      <td>0</td>\n      <td>0</td>\n      <td>0</td>\n      <td>0</td>\n      <td>0</td>\n      <td>0</td>\n    </tr>\n    <tr>\n      <th>12</th>\n      <td>0</td>\n      <td>1</td>\n      <td>0</td>\n      <td>0</td>\n      <td>1</td>\n      <td>0</td>\n      <td>0</td>\n      <td>0</td>\n      <td>0</td>\n      <td>0</td>\n      <td>...</td>\n      <td>0</td>\n      <td>0</td>\n      <td>0</td>\n      <td>0</td>\n      <td>0</td>\n      <td>0</td>\n      <td>0</td>\n      <td>0</td>\n      <td>0</td>\n      <td>0</td>\n    </tr>\n    <tr>\n      <th>36</th>\n      <td>1</td>\n      <td>0</td>\n      <td>0</td>\n      <td>0</td>\n      <td>1</td>\n      <td>0</td>\n      <td>0</td>\n      <td>0</td>\n      <td>0</td>\n      <td>0</td>\n      <td>...</td>\n      <td>0</td>\n      <td>0</td>\n      <td>0</td>\n      <td>0</td>\n      <td>0</td>\n      <td>0</td>\n      <td>0</td>\n      <td>0</td>\n      <td>0</td>\n      <td>0</td>\n    </tr>\n    <tr>\n      <th>47</th>\n      <td>0</td>\n      <td>1</td>\n      <td>0</td>\n      <td>0</td>\n      <td>1</td>\n      <td>0</td>\n      <td>0</td>\n      <td>0</td>\n      <td>0</td>\n      <td>0</td>\n      <td>...</td>\n      <td>0</td>\n      <td>0</td>\n      <td>0</td>\n      <td>0</td>\n      <td>0</td>\n      <td>0</td>\n      <td>0</td>\n      <td>0</td>\n      <td>1</td>\n      <td>0</td>\n    </tr>\n    <tr>\n      <th>74</th>\n      <td>0</td>\n      <td>1</td>\n      <td>0</td>\n      <td>0</td>\n      <td>0</td>\n      <td>0</td>\n      <td>1</td>\n      <td>0</td>\n      <td>0</td>\n      <td>0</td>\n      <td>...</td>\n      <td>0</td>\n      <td>0</td>\n      <td>0</td>\n      <td>0</td>\n      <td>0</td>\n      <td>0</td>\n      <td>0</td>\n      <td>0</td>\n      <td>0</td>\n      <td>0</td>\n    </tr>\n    <tr>\n      <th>...</th>\n      <td>...</td>\n      <td>...</td>\n      <td>...</td>\n      <td>...</td>\n      <td>...</td>\n      <td>...</td>\n      <td>...</td>\n      <td>...</td>\n      <td>...</td>\n      <td>...</td>\n      <td>...</td>\n      <td>...</td>\n      <td>...</td>\n      <td>...</td>\n      <td>...</td>\n      <td>...</td>\n      <td>...</td>\n      <td>...</td>\n      <td>...</td>\n      <td>...</td>\n      <td>...</td>\n    </tr>\n    <tr>\n      <th>19690</th>\n      <td>0</td>\n      <td>1</td>\n      <td>0</td>\n      <td>0</td>\n      <td>1</td>\n      <td>0</td>\n      <td>0</td>\n      <td>0</td>\n      <td>0</td>\n      <td>0</td>\n      <td>...</td>\n      <td>0</td>\n      <td>0</td>\n      <td>0</td>\n      <td>0</td>\n      <td>0</td>\n      <td>0</td>\n      <td>0</td>\n      <td>0</td>\n      <td>0</td>\n      <td>0</td>\n    </tr>\n    <tr>\n      <th>19693</th>\n      <td>0</td>\n      <td>1</td>\n      <td>1</td>\n      <td>0</td>\n      <td>0</td>\n      <td>0</td>\n      <td>0</td>\n      <td>0</td>\n      <td>0</td>\n      <td>0</td>\n      <td>...</td>\n      <td>0</td>\n      <td>0</td>\n      <td>0</td>\n      <td>0</td>\n      <td>0</td>\n      <td>0</td>\n      <td>0</td>\n      <td>0</td>\n      <td>0</td>\n      <td>0</td>\n    </tr>\n    <tr>\n      <th>19697</th>\n      <td>0</td>\n      <td>1</td>\n      <td>1</td>\n      <td>0</td>\n      <td>0</td>\n      <td>0</td>\n      <td>0</td>\n      <td>0</td>\n      <td>0</td>\n      <td>0</td>\n      <td>...</td>\n      <td>0</td>\n      <td>0</td>\n      <td>0</td>\n      <td>0</td>\n      <td>0</td>\n      <td>0</td>\n      <td>0</td>\n      <td>0</td>\n      <td>0</td>\n      <td>0</td>\n    </tr>\n    <tr>\n      <th>19704</th>\n      <td>0</td>\n      <td>1</td>\n      <td>0</td>\n      <td>0</td>\n      <td>1</td>\n      <td>0</td>\n      <td>0</td>\n      <td>0</td>\n      <td>0</td>\n      <td>0</td>\n      <td>...</td>\n      <td>0</td>\n      <td>0</td>\n      <td>0</td>\n      <td>0</td>\n      <td>0</td>\n      <td>0</td>\n      <td>0</td>\n      <td>0</td>\n      <td>0</td>\n      <td>0</td>\n    </tr>\n    <tr>\n      <th>19707</th>\n      <td>0</td>\n      <td>1</td>\n      <td>0</td>\n      <td>0</td>\n      <td>0</td>\n      <td>0</td>\n      <td>1</td>\n      <td>0</td>\n      <td>0</td>\n      <td>0</td>\n      <td>...</td>\n      <td>0</td>\n      <td>0</td>\n      <td>0</td>\n      <td>0</td>\n      <td>0</td>\n      <td>0</td>\n      <td>0</td>\n      <td>0</td>\n      <td>0</td>\n      <td>0</td>\n    </tr>\n  </tbody>\n</table>\n<p>1417 rows × 1000 columns</p>\n</div>"
     },
     "metadata": {},
     "execution_count": 5
    }
   ],
   "source": [
    "complex_binary_data = pd.concat([\n",
    "    complex_data.drop(['country', 'sex', 'artist'], axis=1), \n",
    "    pd.get_dummies(complex_data['sex']), \n",
    "    pd.get_dummies(complex_data['country']), \n",
    "    complex_data['artist'].str.get_dummies(';')\n",
    "    ], axis = 1).set_index(['user'])\n",
    "complex_binary_data"
   ]
  },
  {
   "cell_type": "code",
   "execution_count": 6,
   "metadata": {},
   "outputs": [
    {
     "output_type": "execute_result",
     "data": {
      "text/plain": [
       "       support                                    itemsets\n",
       "0     0.220183                                         (f)\n",
       "1     0.779817                                         (m)\n",
       "2     0.112915                                   (Belgium)\n",
       "3     0.230769                                    (France)\n",
       "4     0.214538                                     (Italy)\n",
       "...        ...                                         ...\n",
       "2484  0.016937        (placebo, radiohead, coldplay, muse)\n",
       "2485  0.016231    (the killers, radiohead, coldplay, muse)\n",
       "2486  0.017643  (the killers, the strokes, coldplay, muse)\n",
       "2487  0.016231    (the killers, interpol, radiohead, muse)\n",
       "2488  0.016231    (interpol, the strokes, radiohead, muse)\n",
       "\n",
       "[2489 rows x 2 columns]"
      ],
      "text/html": "<div>\n<style scoped>\n    .dataframe tbody tr th:only-of-type {\n        vertical-align: middle;\n    }\n\n    .dataframe tbody tr th {\n        vertical-align: top;\n    }\n\n    .dataframe thead th {\n        text-align: right;\n    }\n</style>\n<table border=\"1\" class=\"dataframe\">\n  <thead>\n    <tr style=\"text-align: right;\">\n      <th></th>\n      <th>support</th>\n      <th>itemsets</th>\n    </tr>\n  </thead>\n  <tbody>\n    <tr>\n      <th>0</th>\n      <td>0.220183</td>\n      <td>(f)</td>\n    </tr>\n    <tr>\n      <th>1</th>\n      <td>0.779817</td>\n      <td>(m)</td>\n    </tr>\n    <tr>\n      <th>2</th>\n      <td>0.112915</td>\n      <td>(Belgium)</td>\n    </tr>\n    <tr>\n      <th>3</th>\n      <td>0.230769</td>\n      <td>(France)</td>\n    </tr>\n    <tr>\n      <th>4</th>\n      <td>0.214538</td>\n      <td>(Italy)</td>\n    </tr>\n    <tr>\n      <th>...</th>\n      <td>...</td>\n      <td>...</td>\n    </tr>\n    <tr>\n      <th>2484</th>\n      <td>0.016937</td>\n      <td>(placebo, radiohead, coldplay, muse)</td>\n    </tr>\n    <tr>\n      <th>2485</th>\n      <td>0.016231</td>\n      <td>(the killers, radiohead, coldplay, muse)</td>\n    </tr>\n    <tr>\n      <th>2486</th>\n      <td>0.017643</td>\n      <td>(the killers, the strokes, coldplay, muse)</td>\n    </tr>\n    <tr>\n      <th>2487</th>\n      <td>0.016231</td>\n      <td>(the killers, interpol, radiohead, muse)</td>\n    </tr>\n    <tr>\n      <th>2488</th>\n      <td>0.016231</td>\n      <td>(interpol, the strokes, radiohead, muse)</td>\n    </tr>\n  </tbody>\n</table>\n<p>2489 rows × 2 columns</p>\n</div>"
     },
     "metadata": {},
     "execution_count": 6
    }
   ],
   "source": [
    "frequent_itemsets_apriori = apriori(complex_binary_data, min_support=0.015, use_colnames=True)\n",
    "frequent_itemsets_apriori"
   ]
  },
  {
   "cell_type": "code",
   "execution_count": 7,
   "metadata": {},
   "outputs": [
    {
     "output_type": "execute_result",
     "data": {
      "text/plain": [
       "       support                           itemsets\n",
       "0     0.779817                                (m)\n",
       "1     0.174312                             (muse)\n",
       "2     0.130558                       (pink floyd)\n",
       "3     0.123500                        (metallica)\n",
       "4     0.096683                     (depeche mode)\n",
       "...        ...                                ...\n",
       "2484  0.015526                  (deftones, Spain)\n",
       "2485  0.016231  (deftones, the smashing pumpkins)\n",
       "2486  0.015526                   (deftones, muse)\n",
       "2487  0.017643                       (m, kreator)\n",
       "2488  0.016231          (stereophonics, coldplay)\n",
       "\n",
       "[2489 rows x 2 columns]"
      ],
      "text/html": "<div>\n<style scoped>\n    .dataframe tbody tr th:only-of-type {\n        vertical-align: middle;\n    }\n\n    .dataframe tbody tr th {\n        vertical-align: top;\n    }\n\n    .dataframe thead th {\n        text-align: right;\n    }\n</style>\n<table border=\"1\" class=\"dataframe\">\n  <thead>\n    <tr style=\"text-align: right;\">\n      <th></th>\n      <th>support</th>\n      <th>itemsets</th>\n    </tr>\n  </thead>\n  <tbody>\n    <tr>\n      <th>0</th>\n      <td>0.779817</td>\n      <td>(m)</td>\n    </tr>\n    <tr>\n      <th>1</th>\n      <td>0.174312</td>\n      <td>(muse)</td>\n    </tr>\n    <tr>\n      <th>2</th>\n      <td>0.130558</td>\n      <td>(pink floyd)</td>\n    </tr>\n    <tr>\n      <th>3</th>\n      <td>0.123500</td>\n      <td>(metallica)</td>\n    </tr>\n    <tr>\n      <th>4</th>\n      <td>0.096683</td>\n      <td>(depeche mode)</td>\n    </tr>\n    <tr>\n      <th>...</th>\n      <td>...</td>\n      <td>...</td>\n    </tr>\n    <tr>\n      <th>2484</th>\n      <td>0.015526</td>\n      <td>(deftones, Spain)</td>\n    </tr>\n    <tr>\n      <th>2485</th>\n      <td>0.016231</td>\n      <td>(deftones, the smashing pumpkins)</td>\n    </tr>\n    <tr>\n      <th>2486</th>\n      <td>0.015526</td>\n      <td>(deftones, muse)</td>\n    </tr>\n    <tr>\n      <th>2487</th>\n      <td>0.017643</td>\n      <td>(m, kreator)</td>\n    </tr>\n    <tr>\n      <th>2488</th>\n      <td>0.016231</td>\n      <td>(stereophonics, coldplay)</td>\n    </tr>\n  </tbody>\n</table>\n<p>2489 rows × 2 columns</p>\n</div>"
     },
     "metadata": {},
     "execution_count": 7
    }
   ],
   "source": [
    "frequent_itemsets_fpgrowth = fpgrowth(complex_binary_data, min_support=0.015, use_colnames=True)\n",
    "frequent_itemsets_fpgrowth"
   ]
  },
  {
   "cell_type": "code",
   "execution_count": 8,
   "metadata": {},
   "outputs": [
    {
     "output_type": "execute_result",
     "data": {
      "text/plain": [
       "            antecedents                         consequents  \\\n",
       "0                   (f)                           (Belgium)   \n",
       "1             (Belgium)                                 (f)   \n",
       "2              (France)                                 (f)   \n",
       "3                   (f)                            (France)   \n",
       "4                   (f)                             (Italy)   \n",
       "...                 ...                                 ...   \n",
       "8511  (radiohead, muse)             (interpol, the strokes)   \n",
       "8512         (interpol)      (the strokes, muse, radiohead)   \n",
       "8513      (the strokes)         (interpol, radiohead, muse)   \n",
       "8514        (radiohead)       (interpol, the strokes, muse)   \n",
       "8515             (muse)  (interpol, the strokes, radiohead)   \n",
       "\n",
       "      antecedent support  consequent support   support  confidence      lift  \\\n",
       "0               0.220183            0.112915  0.022583    0.102564  0.908333   \n",
       "1               0.112915            0.220183  0.022583    0.200000  0.908333   \n",
       "2               0.230769            0.220183  0.043049    0.186544  0.847222   \n",
       "3               0.220183            0.230769  0.043049    0.195513  0.847222   \n",
       "4               0.220183            0.214538  0.052929    0.240385  1.120477   \n",
       "...                  ...                 ...       ...         ...       ...   \n",
       "8511            0.080452            0.033874  0.016231    0.201754  5.955958   \n",
       "8512            0.079746            0.021171  0.016231    0.203540  9.613864   \n",
       "8513            0.087509            0.028229  0.016231    0.185484  6.570766   \n",
       "8514            0.237826            0.023289  0.016231    0.068249  2.930582   \n",
       "8515            0.174312            0.021877  0.016231    0.093117  4.256367   \n",
       "\n",
       "      leverage  conviction  \n",
       "0    -0.002279    0.988467  \n",
       "1    -0.002279    0.974771  \n",
       "2    -0.007763    0.958647  \n",
       "3    -0.007763    0.956175  \n",
       "4     0.005691    1.034026  \n",
       "...        ...         ...  \n",
       "8511  0.013506    1.210311  \n",
       "8512  0.014543    1.228974  \n",
       "8513  0.013761    1.193066  \n",
       "8514  0.010693    1.048254  \n",
       "8515  0.012418    1.078555  \n",
       "\n",
       "[8516 rows x 9 columns]"
      ],
      "text/html": "<div>\n<style scoped>\n    .dataframe tbody tr th:only-of-type {\n        vertical-align: middle;\n    }\n\n    .dataframe tbody tr th {\n        vertical-align: top;\n    }\n\n    .dataframe thead th {\n        text-align: right;\n    }\n</style>\n<table border=\"1\" class=\"dataframe\">\n  <thead>\n    <tr style=\"text-align: right;\">\n      <th></th>\n      <th>antecedents</th>\n      <th>consequents</th>\n      <th>antecedent support</th>\n      <th>consequent support</th>\n      <th>support</th>\n      <th>confidence</th>\n      <th>lift</th>\n      <th>leverage</th>\n      <th>conviction</th>\n    </tr>\n  </thead>\n  <tbody>\n    <tr>\n      <th>0</th>\n      <td>(f)</td>\n      <td>(Belgium)</td>\n      <td>0.220183</td>\n      <td>0.112915</td>\n      <td>0.022583</td>\n      <td>0.102564</td>\n      <td>0.908333</td>\n      <td>-0.002279</td>\n      <td>0.988467</td>\n    </tr>\n    <tr>\n      <th>1</th>\n      <td>(Belgium)</td>\n      <td>(f)</td>\n      <td>0.112915</td>\n      <td>0.220183</td>\n      <td>0.022583</td>\n      <td>0.200000</td>\n      <td>0.908333</td>\n      <td>-0.002279</td>\n      <td>0.974771</td>\n    </tr>\n    <tr>\n      <th>2</th>\n      <td>(France)</td>\n      <td>(f)</td>\n      <td>0.230769</td>\n      <td>0.220183</td>\n      <td>0.043049</td>\n      <td>0.186544</td>\n      <td>0.847222</td>\n      <td>-0.007763</td>\n      <td>0.958647</td>\n    </tr>\n    <tr>\n      <th>3</th>\n      <td>(f)</td>\n      <td>(France)</td>\n      <td>0.220183</td>\n      <td>0.230769</td>\n      <td>0.043049</td>\n      <td>0.195513</td>\n      <td>0.847222</td>\n      <td>-0.007763</td>\n      <td>0.956175</td>\n    </tr>\n    <tr>\n      <th>4</th>\n      <td>(f)</td>\n      <td>(Italy)</td>\n      <td>0.220183</td>\n      <td>0.214538</td>\n      <td>0.052929</td>\n      <td>0.240385</td>\n      <td>1.120477</td>\n      <td>0.005691</td>\n      <td>1.034026</td>\n    </tr>\n    <tr>\n      <th>...</th>\n      <td>...</td>\n      <td>...</td>\n      <td>...</td>\n      <td>...</td>\n      <td>...</td>\n      <td>...</td>\n      <td>...</td>\n      <td>...</td>\n      <td>...</td>\n    </tr>\n    <tr>\n      <th>8511</th>\n      <td>(radiohead, muse)</td>\n      <td>(interpol, the strokes)</td>\n      <td>0.080452</td>\n      <td>0.033874</td>\n      <td>0.016231</td>\n      <td>0.201754</td>\n      <td>5.955958</td>\n      <td>0.013506</td>\n      <td>1.210311</td>\n    </tr>\n    <tr>\n      <th>8512</th>\n      <td>(interpol)</td>\n      <td>(the strokes, muse, radiohead)</td>\n      <td>0.079746</td>\n      <td>0.021171</td>\n      <td>0.016231</td>\n      <td>0.203540</td>\n      <td>9.613864</td>\n      <td>0.014543</td>\n      <td>1.228974</td>\n    </tr>\n    <tr>\n      <th>8513</th>\n      <td>(the strokes)</td>\n      <td>(interpol, radiohead, muse)</td>\n      <td>0.087509</td>\n      <td>0.028229</td>\n      <td>0.016231</td>\n      <td>0.185484</td>\n      <td>6.570766</td>\n      <td>0.013761</td>\n      <td>1.193066</td>\n    </tr>\n    <tr>\n      <th>8514</th>\n      <td>(radiohead)</td>\n      <td>(interpol, the strokes, muse)</td>\n      <td>0.237826</td>\n      <td>0.023289</td>\n      <td>0.016231</td>\n      <td>0.068249</td>\n      <td>2.930582</td>\n      <td>0.010693</td>\n      <td>1.048254</td>\n    </tr>\n    <tr>\n      <th>8515</th>\n      <td>(muse)</td>\n      <td>(interpol, the strokes, radiohead)</td>\n      <td>0.174312</td>\n      <td>0.021877</td>\n      <td>0.016231</td>\n      <td>0.093117</td>\n      <td>4.256367</td>\n      <td>0.012418</td>\n      <td>1.078555</td>\n    </tr>\n  </tbody>\n</table>\n<p>8516 rows × 9 columns</p>\n</div>"
     },
     "metadata": {},
     "execution_count": 8
    }
   ],
   "source": [
    "rules_lift_apriori = association_rules(frequent_itemsets_apriori, min_threshold=0.015, metric=\"confidence\")\n",
    "rules_lift_apriori"
   ]
  },
  {
   "cell_type": "code",
   "execution_count": 9,
   "metadata": {},
   "outputs": [
    {
     "output_type": "execute_result",
     "data": {
      "text/plain": [
       "          antecedents      consequents  antecedent support  \\\n",
       "0                 (m)           (muse)            0.779817   \n",
       "1              (muse)              (m)            0.174312   \n",
       "2             (Spain)           (muse)            0.355681   \n",
       "3              (muse)          (Spain)            0.174312   \n",
       "4                 (f)           (muse)            0.220183   \n",
       "...               ...              ...                 ...   \n",
       "8511           (muse)       (deftones)            0.174312   \n",
       "8512              (m)        (kreator)            0.779817   \n",
       "8513        (kreator)              (m)            0.019054   \n",
       "8514  (stereophonics)       (coldplay)            0.021171   \n",
       "8515       (coldplay)  (stereophonics)            0.188426   \n",
       "\n",
       "      consequent support   support  confidence      lift  leverage  conviction  \n",
       "0               0.174312  0.129146    0.165611  0.950083 -0.006785    0.989572  \n",
       "1               0.779817  0.129146    0.740891  0.950083 -0.006785    0.849771  \n",
       "2               0.174312  0.067749    0.190476  1.092732  0.005749    1.019968  \n",
       "3               0.355681  0.067749    0.388664  1.092732  0.005749    1.053952  \n",
       "4               0.174312  0.045166    0.205128  1.176788  0.006785    1.038769  \n",
       "...                  ...       ...         ...       ...       ...         ...  \n",
       "8511            0.035286  0.015526    0.089069  2.524211  0.009375    1.059042  \n",
       "8512            0.019054  0.017643    0.022624  1.187364  0.002784    1.003653  \n",
       "8513            0.779817  0.017643    0.925926  1.187364  0.002784    2.972477  \n",
       "8514            0.188426  0.016231    0.766667  4.068789  0.012242    3.478173  \n",
       "8515            0.021171  0.016231    0.086142  4.068789  0.012242    1.071095  \n",
       "\n",
       "[8516 rows x 9 columns]"
      ],
      "text/html": "<div>\n<style scoped>\n    .dataframe tbody tr th:only-of-type {\n        vertical-align: middle;\n    }\n\n    .dataframe tbody tr th {\n        vertical-align: top;\n    }\n\n    .dataframe thead th {\n        text-align: right;\n    }\n</style>\n<table border=\"1\" class=\"dataframe\">\n  <thead>\n    <tr style=\"text-align: right;\">\n      <th></th>\n      <th>antecedents</th>\n      <th>consequents</th>\n      <th>antecedent support</th>\n      <th>consequent support</th>\n      <th>support</th>\n      <th>confidence</th>\n      <th>lift</th>\n      <th>leverage</th>\n      <th>conviction</th>\n    </tr>\n  </thead>\n  <tbody>\n    <tr>\n      <th>0</th>\n      <td>(m)</td>\n      <td>(muse)</td>\n      <td>0.779817</td>\n      <td>0.174312</td>\n      <td>0.129146</td>\n      <td>0.165611</td>\n      <td>0.950083</td>\n      <td>-0.006785</td>\n      <td>0.989572</td>\n    </tr>\n    <tr>\n      <th>1</th>\n      <td>(muse)</td>\n      <td>(m)</td>\n      <td>0.174312</td>\n      <td>0.779817</td>\n      <td>0.129146</td>\n      <td>0.740891</td>\n      <td>0.950083</td>\n      <td>-0.006785</td>\n      <td>0.849771</td>\n    </tr>\n    <tr>\n      <th>2</th>\n      <td>(Spain)</td>\n      <td>(muse)</td>\n      <td>0.355681</td>\n      <td>0.174312</td>\n      <td>0.067749</td>\n      <td>0.190476</td>\n      <td>1.092732</td>\n      <td>0.005749</td>\n      <td>1.019968</td>\n    </tr>\n    <tr>\n      <th>3</th>\n      <td>(muse)</td>\n      <td>(Spain)</td>\n      <td>0.174312</td>\n      <td>0.355681</td>\n      <td>0.067749</td>\n      <td>0.388664</td>\n      <td>1.092732</td>\n      <td>0.005749</td>\n      <td>1.053952</td>\n    </tr>\n    <tr>\n      <th>4</th>\n      <td>(f)</td>\n      <td>(muse)</td>\n      <td>0.220183</td>\n      <td>0.174312</td>\n      <td>0.045166</td>\n      <td>0.205128</td>\n      <td>1.176788</td>\n      <td>0.006785</td>\n      <td>1.038769</td>\n    </tr>\n    <tr>\n      <th>...</th>\n      <td>...</td>\n      <td>...</td>\n      <td>...</td>\n      <td>...</td>\n      <td>...</td>\n      <td>...</td>\n      <td>...</td>\n      <td>...</td>\n      <td>...</td>\n    </tr>\n    <tr>\n      <th>8511</th>\n      <td>(muse)</td>\n      <td>(deftones)</td>\n      <td>0.174312</td>\n      <td>0.035286</td>\n      <td>0.015526</td>\n      <td>0.089069</td>\n      <td>2.524211</td>\n      <td>0.009375</td>\n      <td>1.059042</td>\n    </tr>\n    <tr>\n      <th>8512</th>\n      <td>(m)</td>\n      <td>(kreator)</td>\n      <td>0.779817</td>\n      <td>0.019054</td>\n      <td>0.017643</td>\n      <td>0.022624</td>\n      <td>1.187364</td>\n      <td>0.002784</td>\n      <td>1.003653</td>\n    </tr>\n    <tr>\n      <th>8513</th>\n      <td>(kreator)</td>\n      <td>(m)</td>\n      <td>0.019054</td>\n      <td>0.779817</td>\n      <td>0.017643</td>\n      <td>0.925926</td>\n      <td>1.187364</td>\n      <td>0.002784</td>\n      <td>2.972477</td>\n    </tr>\n    <tr>\n      <th>8514</th>\n      <td>(stereophonics)</td>\n      <td>(coldplay)</td>\n      <td>0.021171</td>\n      <td>0.188426</td>\n      <td>0.016231</td>\n      <td>0.766667</td>\n      <td>4.068789</td>\n      <td>0.012242</td>\n      <td>3.478173</td>\n    </tr>\n    <tr>\n      <th>8515</th>\n      <td>(coldplay)</td>\n      <td>(stereophonics)</td>\n      <td>0.188426</td>\n      <td>0.021171</td>\n      <td>0.016231</td>\n      <td>0.086142</td>\n      <td>4.068789</td>\n      <td>0.012242</td>\n      <td>1.071095</td>\n    </tr>\n  </tbody>\n</table>\n<p>8516 rows × 9 columns</p>\n</div>"
     },
     "metadata": {},
     "execution_count": 9
    }
   ],
   "source": [
    "rules_lift_fpgrowth = association_rules(frequent_itemsets_fpgrowth, min_threshold=0.015, metric=\"confidence\")\n",
    "rules_lift_fpgrowth"
   ]
  },
  {
   "source": [
    "<h1>Правило 1</h1>\n",
    "Давайте выясним мужчинам или женщинам больше нравится любимая группа Валерия Ковшова - Muse:"
   ],
   "cell_type": "markdown",
   "metadata": {}
  },
  {
   "cell_type": "code",
   "execution_count": 10,
   "metadata": {},
   "outputs": [],
   "source": [
    "def m_or_f(rules_data):\n",
    "    return rules_data[\n",
    "        (rules_data['consequents'] == {'muse'}) \n",
    "        & ((rules_data['antecedents'] == {'m'}) | (rules_data['antecedents'] == {'f'}))\n",
    "    ].sort_values(by='lift', ascending=False)"
   ]
  },
  {
   "cell_type": "code",
   "execution_count": 11,
   "metadata": {},
   "outputs": [
    {
     "output_type": "execute_result",
     "data": {
      "text/plain": [
       "    antecedents consequents  antecedent support  consequent support   support  \\\n",
       "56          (f)      (muse)            0.220183            0.174312  0.045166   \n",
       "474         (m)      (muse)            0.779817            0.174312  0.129146   \n",
       "\n",
       "     confidence      lift  leverage  conviction  \n",
       "56     0.205128  1.176788  0.006785    1.038769  \n",
       "474    0.165611  0.950083 -0.006785    0.989572  "
      ],
      "text/html": "<div>\n<style scoped>\n    .dataframe tbody tr th:only-of-type {\n        vertical-align: middle;\n    }\n\n    .dataframe tbody tr th {\n        vertical-align: top;\n    }\n\n    .dataframe thead th {\n        text-align: right;\n    }\n</style>\n<table border=\"1\" class=\"dataframe\">\n  <thead>\n    <tr style=\"text-align: right;\">\n      <th></th>\n      <th>antecedents</th>\n      <th>consequents</th>\n      <th>antecedent support</th>\n      <th>consequent support</th>\n      <th>support</th>\n      <th>confidence</th>\n      <th>lift</th>\n      <th>leverage</th>\n      <th>conviction</th>\n    </tr>\n  </thead>\n  <tbody>\n    <tr>\n      <th>56</th>\n      <td>(f)</td>\n      <td>(muse)</td>\n      <td>0.220183</td>\n      <td>0.174312</td>\n      <td>0.045166</td>\n      <td>0.205128</td>\n      <td>1.176788</td>\n      <td>0.006785</td>\n      <td>1.038769</td>\n    </tr>\n    <tr>\n      <th>474</th>\n      <td>(m)</td>\n      <td>(muse)</td>\n      <td>0.779817</td>\n      <td>0.174312</td>\n      <td>0.129146</td>\n      <td>0.165611</td>\n      <td>0.950083</td>\n      <td>-0.006785</td>\n      <td>0.989572</td>\n    </tr>\n  </tbody>\n</table>\n</div>"
     },
     "metadata": {},
     "execution_count": 11
    }
   ],
   "source": [
    "m_or_f(rules_lift_apriori)"
   ]
  },
  {
   "cell_type": "code",
   "execution_count": 12,
   "metadata": {},
   "outputs": [
    {
     "output_type": "execute_result",
     "data": {
      "text/plain": [
       "  antecedents consequents  antecedent support  consequent support   support  \\\n",
       "4         (f)      (muse)            0.220183            0.174312  0.045166   \n",
       "0         (m)      (muse)            0.779817            0.174312  0.129146   \n",
       "\n",
       "   confidence      lift  leverage  conviction  \n",
       "4    0.205128  1.176788  0.006785    1.038769  \n",
       "0    0.165611  0.950083 -0.006785    0.989572  "
      ],
      "text/html": "<div>\n<style scoped>\n    .dataframe tbody tr th:only-of-type {\n        vertical-align: middle;\n    }\n\n    .dataframe tbody tr th {\n        vertical-align: top;\n    }\n\n    .dataframe thead th {\n        text-align: right;\n    }\n</style>\n<table border=\"1\" class=\"dataframe\">\n  <thead>\n    <tr style=\"text-align: right;\">\n      <th></th>\n      <th>antecedents</th>\n      <th>consequents</th>\n      <th>antecedent support</th>\n      <th>consequent support</th>\n      <th>support</th>\n      <th>confidence</th>\n      <th>lift</th>\n      <th>leverage</th>\n      <th>conviction</th>\n    </tr>\n  </thead>\n  <tbody>\n    <tr>\n      <th>4</th>\n      <td>(f)</td>\n      <td>(muse)</td>\n      <td>0.220183</td>\n      <td>0.174312</td>\n      <td>0.045166</td>\n      <td>0.205128</td>\n      <td>1.176788</td>\n      <td>0.006785</td>\n      <td>1.038769</td>\n    </tr>\n    <tr>\n      <th>0</th>\n      <td>(m)</td>\n      <td>(muse)</td>\n      <td>0.779817</td>\n      <td>0.174312</td>\n      <td>0.129146</td>\n      <td>0.165611</td>\n      <td>0.950083</td>\n      <td>-0.006785</td>\n      <td>0.989572</td>\n    </tr>\n  </tbody>\n</table>\n</div>"
     },
     "metadata": {},
     "execution_count": 12
    }
   ],
   "source": [
    "m_or_f(rules_lift_fpgrowth)"
   ]
  },
  {
   "source": [
    "Смотрим, анализируем:\n",
    "<li>supp - Мужчин слушающих Muse в датасете явно больше, чем женщин, но это не о чём не говорит, так как в датасете мужчин сильно больше, поэтому смотрим дальше:\n",
    "<li>conf - И тут мы уже видим, что правило Женщины слушают Muse чаще срабатывает для нашего датасет (попод задуматься)\n",
    "<li>lify - Смотрим на отношение \"зависимости к независимости\" для набора пол и группа Muse и видим, что, у женщин lift > 1, что окончательно даёт нам понимание, что правило \"Женщины слушают Muse\" сильнее, чем правило \"Мужчины слушают Muse\" =("
   ],
   "cell_type": "markdown",
   "metadata": {}
  },
  {
   "source": [
    "<h1>Правило 2</h1>\n",
    "Теперь давайте выясним, что можно послушать ещё, если вам нравится Muse:"
   ],
   "cell_type": "markdown",
   "metadata": {}
  },
  {
   "cell_type": "code",
   "execution_count": 13,
   "metadata": {},
   "outputs": [],
   "source": [
    "def what_else_if_i_love_muse(rules_data):\n",
    "    return rules_data[\n",
    "        (rules_data['antecedents'] == {'muse'})\n",
    "        & (rules_data['consequents'].map(\n",
    "            lambda x: \n",
    "            ('m' not in x) & ('f' not in x)\n",
    "            & ('Spain' not in x) & ('Portugal' not in x) & ('France' not in x) & ('Italy' not in x) & ('Belgium' not in x)))\n",
    "    ].sort_values(by='lift', ascending=False).head(3)"
   ]
  },
  {
   "cell_type": "code",
   "execution_count": 14,
   "metadata": {},
   "outputs": [
    {
     "output_type": "execute_result",
     "data": {
      "text/plain": [
       "     antecedents                              consequents  antecedent support  \\\n",
       "6721      (muse)                        (interpol, oasis)            0.174312   \n",
       "8501      (muse)       (the killers, interpol, radiohead)            0.174312   \n",
       "8277      (muse)  (arctic monkeys, the strokes, coldplay)            0.174312   \n",
       "\n",
       "      consequent support   support  confidence      lift  leverage  conviction  \n",
       "6721            0.019760  0.016231    0.093117  4.712406  0.012787     1.08089  \n",
       "8501            0.019760  0.016231    0.093117  4.712406  0.012787     1.08089  \n",
       "8277            0.019054  0.015526    0.089069  4.674464  0.012204     1.07686  "
      ],
      "text/html": "<div>\n<style scoped>\n    .dataframe tbody tr th:only-of-type {\n        vertical-align: middle;\n    }\n\n    .dataframe tbody tr th {\n        vertical-align: top;\n    }\n\n    .dataframe thead th {\n        text-align: right;\n    }\n</style>\n<table border=\"1\" class=\"dataframe\">\n  <thead>\n    <tr style=\"text-align: right;\">\n      <th></th>\n      <th>antecedents</th>\n      <th>consequents</th>\n      <th>antecedent support</th>\n      <th>consequent support</th>\n      <th>support</th>\n      <th>confidence</th>\n      <th>lift</th>\n      <th>leverage</th>\n      <th>conviction</th>\n    </tr>\n  </thead>\n  <tbody>\n    <tr>\n      <th>6721</th>\n      <td>(muse)</td>\n      <td>(interpol, oasis)</td>\n      <td>0.174312</td>\n      <td>0.019760</td>\n      <td>0.016231</td>\n      <td>0.093117</td>\n      <td>4.712406</td>\n      <td>0.012787</td>\n      <td>1.08089</td>\n    </tr>\n    <tr>\n      <th>8501</th>\n      <td>(muse)</td>\n      <td>(the killers, interpol, radiohead)</td>\n      <td>0.174312</td>\n      <td>0.019760</td>\n      <td>0.016231</td>\n      <td>0.093117</td>\n      <td>4.712406</td>\n      <td>0.012787</td>\n      <td>1.08089</td>\n    </tr>\n    <tr>\n      <th>8277</th>\n      <td>(muse)</td>\n      <td>(arctic monkeys, the strokes, coldplay)</td>\n      <td>0.174312</td>\n      <td>0.019054</td>\n      <td>0.015526</td>\n      <td>0.089069</td>\n      <td>4.674464</td>\n      <td>0.012204</td>\n      <td>1.07686</td>\n    </tr>\n  </tbody>\n</table>\n</div>"
     },
     "metadata": {},
     "execution_count": 14
    }
   ],
   "source": [
    "what_else_if_i_love_muse(rules_lift_apriori)"
   ]
  },
  {
   "cell_type": "code",
   "execution_count": 15,
   "metadata": {},
   "outputs": [
    {
     "output_type": "execute_result",
     "data": {
      "text/plain": [
       "     antecedents                              consequents  antecedent support  \\\n",
       "6753      (muse)       (the killers, interpol, radiohead)            0.174312   \n",
       "6785      (muse)                        (interpol, oasis)            0.174312   \n",
       "2553      (muse)  (arctic monkeys, the strokes, coldplay)            0.174312   \n",
       "\n",
       "      consequent support   support  confidence      lift  leverage  conviction  \n",
       "6753            0.019760  0.016231    0.093117  4.712406  0.012787     1.08089  \n",
       "6785            0.019760  0.016231    0.093117  4.712406  0.012787     1.08089  \n",
       "2553            0.019054  0.015526    0.089069  4.674464  0.012204     1.07686  "
      ],
      "text/html": "<div>\n<style scoped>\n    .dataframe tbody tr th:only-of-type {\n        vertical-align: middle;\n    }\n\n    .dataframe tbody tr th {\n        vertical-align: top;\n    }\n\n    .dataframe thead th {\n        text-align: right;\n    }\n</style>\n<table border=\"1\" class=\"dataframe\">\n  <thead>\n    <tr style=\"text-align: right;\">\n      <th></th>\n      <th>antecedents</th>\n      <th>consequents</th>\n      <th>antecedent support</th>\n      <th>consequent support</th>\n      <th>support</th>\n      <th>confidence</th>\n      <th>lift</th>\n      <th>leverage</th>\n      <th>conviction</th>\n    </tr>\n  </thead>\n  <tbody>\n    <tr>\n      <th>6753</th>\n      <td>(muse)</td>\n      <td>(the killers, interpol, radiohead)</td>\n      <td>0.174312</td>\n      <td>0.019760</td>\n      <td>0.016231</td>\n      <td>0.093117</td>\n      <td>4.712406</td>\n      <td>0.012787</td>\n      <td>1.08089</td>\n    </tr>\n    <tr>\n      <th>6785</th>\n      <td>(muse)</td>\n      <td>(interpol, oasis)</td>\n      <td>0.174312</td>\n      <td>0.019760</td>\n      <td>0.016231</td>\n      <td>0.093117</td>\n      <td>4.712406</td>\n      <td>0.012787</td>\n      <td>1.08089</td>\n    </tr>\n    <tr>\n      <th>2553</th>\n      <td>(muse)</td>\n      <td>(arctic monkeys, the strokes, coldplay)</td>\n      <td>0.174312</td>\n      <td>0.019054</td>\n      <td>0.015526</td>\n      <td>0.089069</td>\n      <td>4.674464</td>\n      <td>0.012204</td>\n      <td>1.07686</td>\n    </tr>\n  </tbody>\n</table>\n</div>"
     },
     "metadata": {},
     "execution_count": 15
    }
   ],
   "source": [
    "what_else_if_i_love_muse(rules_lift_fpgrowth)"
   ]
  },
  {
   "source": [
    "Смотрим, анализируем и добавляем в плейлист (если ещё не сделали этого):\n",
    "<li>oasis\n",
    "<li>the killers\n",
    "<li>interpol\n",
    "<li>radiohead\n",
    "<li>the strokes\n",
    "<li>arctic monkeys\n",
    "<li>coldplay"
   ],
   "cell_type": "markdown",
   "metadata": {}
  },
  {
   "source": [
    "<h1>Правило 3</h1>\n",
    "Давайте выясним, а где же искать единомышленников за рубежом:"
   ],
   "cell_type": "markdown",
   "metadata": {}
  },
  {
   "cell_type": "code",
   "execution_count": 16,
   "metadata": {},
   "outputs": [],
   "source": [
    "def where_else_love_muse(rules_data):\n",
    "    return rules_data[\n",
    "        (rules_data['antecedents'] == {'muse'})\n",
    "        & (\n",
    "            (rules_data['consequents'] == {'Spain'})\n",
    "            | (rules_data['consequents'] == {'Portugal'})\n",
    "            | (rules_data['consequents'] == {'France'})\n",
    "            | (rules_data['consequents'] == {'Italy'})\n",
    "            | (rules_data['consequents'] == {'Belgium'}))\n",
    "    ].sort_values(by='lift', ascending=False)"
   ]
  },
  {
   "cell_type": "code",
   "execution_count": 17,
   "metadata": {},
   "outputs": [
    {
     "output_type": "execute_result",
     "data": {
      "text/plain": [
       "    antecedents consequents  antecedent support  consequent support   support  \\\n",
       "867      (muse)  (Portugal)            0.174312            0.086097  0.018349   \n",
       "983      (muse)     (Spain)            0.174312            0.355681  0.067749   \n",
       "735      (muse)    (France)            0.174312            0.230769  0.038814   \n",
       "817      (muse)     (Italy)            0.174312            0.214538  0.033874   \n",
       "689      (muse)   (Belgium)            0.174312            0.112915  0.015526   \n",
       "\n",
       "     confidence      lift  leverage  conviction  \n",
       "867    0.105263  1.222606  0.003341    1.021421  \n",
       "983    0.388664  1.092732  0.005749    1.053952  \n",
       "735    0.222672  0.964912 -0.001411    0.989583  \n",
       "817    0.194332  0.905817 -0.003522    0.974920  \n",
       "689    0.089069  0.788816 -0.004157    0.973823  "
      ],
      "text/html": "<div>\n<style scoped>\n    .dataframe tbody tr th:only-of-type {\n        vertical-align: middle;\n    }\n\n    .dataframe tbody tr th {\n        vertical-align: top;\n    }\n\n    .dataframe thead th {\n        text-align: right;\n    }\n</style>\n<table border=\"1\" class=\"dataframe\">\n  <thead>\n    <tr style=\"text-align: right;\">\n      <th></th>\n      <th>antecedents</th>\n      <th>consequents</th>\n      <th>antecedent support</th>\n      <th>consequent support</th>\n      <th>support</th>\n      <th>confidence</th>\n      <th>lift</th>\n      <th>leverage</th>\n      <th>conviction</th>\n    </tr>\n  </thead>\n  <tbody>\n    <tr>\n      <th>867</th>\n      <td>(muse)</td>\n      <td>(Portugal)</td>\n      <td>0.174312</td>\n      <td>0.086097</td>\n      <td>0.018349</td>\n      <td>0.105263</td>\n      <td>1.222606</td>\n      <td>0.003341</td>\n      <td>1.021421</td>\n    </tr>\n    <tr>\n      <th>983</th>\n      <td>(muse)</td>\n      <td>(Spain)</td>\n      <td>0.174312</td>\n      <td>0.355681</td>\n      <td>0.067749</td>\n      <td>0.388664</td>\n      <td>1.092732</td>\n      <td>0.005749</td>\n      <td>1.053952</td>\n    </tr>\n    <tr>\n      <th>735</th>\n      <td>(muse)</td>\n      <td>(France)</td>\n      <td>0.174312</td>\n      <td>0.230769</td>\n      <td>0.038814</td>\n      <td>0.222672</td>\n      <td>0.964912</td>\n      <td>-0.001411</td>\n      <td>0.989583</td>\n    </tr>\n    <tr>\n      <th>817</th>\n      <td>(muse)</td>\n      <td>(Italy)</td>\n      <td>0.174312</td>\n      <td>0.214538</td>\n      <td>0.033874</td>\n      <td>0.194332</td>\n      <td>0.905817</td>\n      <td>-0.003522</td>\n      <td>0.974920</td>\n    </tr>\n    <tr>\n      <th>689</th>\n      <td>(muse)</td>\n      <td>(Belgium)</td>\n      <td>0.174312</td>\n      <td>0.112915</td>\n      <td>0.015526</td>\n      <td>0.089069</td>\n      <td>0.788816</td>\n      <td>-0.004157</td>\n      <td>0.973823</td>\n    </tr>\n  </tbody>\n</table>\n</div>"
     },
     "metadata": {},
     "execution_count": 17
    }
   ],
   "source": [
    "where_else_love_muse(rules_lift_apriori)"
   ]
  },
  {
   "cell_type": "code",
   "execution_count": 18,
   "metadata": {},
   "outputs": [
    {
     "output_type": "execute_result",
     "data": {
      "text/plain": [
       "     antecedents consequents  antecedent support  consequent support  \\\n",
       "795       (muse)  (Portugal)            0.174312            0.086097   \n",
       "3         (muse)     (Spain)            0.174312            0.355681   \n",
       "7         (muse)    (France)            0.174312            0.230769   \n",
       "13        (muse)     (Italy)            0.174312            0.214538   \n",
       "3575      (muse)   (Belgium)            0.174312            0.112915   \n",
       "\n",
       "       support  confidence      lift  leverage  conviction  \n",
       "795   0.018349    0.105263  1.222606  0.003341    1.021421  \n",
       "3     0.067749    0.388664  1.092732  0.005749    1.053952  \n",
       "7     0.038814    0.222672  0.964912 -0.001411    0.989583  \n",
       "13    0.033874    0.194332  0.905817 -0.003522    0.974920  \n",
       "3575  0.015526    0.089069  0.788816 -0.004157    0.973823  "
      ],
      "text/html": "<div>\n<style scoped>\n    .dataframe tbody tr th:only-of-type {\n        vertical-align: middle;\n    }\n\n    .dataframe tbody tr th {\n        vertical-align: top;\n    }\n\n    .dataframe thead th {\n        text-align: right;\n    }\n</style>\n<table border=\"1\" class=\"dataframe\">\n  <thead>\n    <tr style=\"text-align: right;\">\n      <th></th>\n      <th>antecedents</th>\n      <th>consequents</th>\n      <th>antecedent support</th>\n      <th>consequent support</th>\n      <th>support</th>\n      <th>confidence</th>\n      <th>lift</th>\n      <th>leverage</th>\n      <th>conviction</th>\n    </tr>\n  </thead>\n  <tbody>\n    <tr>\n      <th>795</th>\n      <td>(muse)</td>\n      <td>(Portugal)</td>\n      <td>0.174312</td>\n      <td>0.086097</td>\n      <td>0.018349</td>\n      <td>0.105263</td>\n      <td>1.222606</td>\n      <td>0.003341</td>\n      <td>1.021421</td>\n    </tr>\n    <tr>\n      <th>3</th>\n      <td>(muse)</td>\n      <td>(Spain)</td>\n      <td>0.174312</td>\n      <td>0.355681</td>\n      <td>0.067749</td>\n      <td>0.388664</td>\n      <td>1.092732</td>\n      <td>0.005749</td>\n      <td>1.053952</td>\n    </tr>\n    <tr>\n      <th>7</th>\n      <td>(muse)</td>\n      <td>(France)</td>\n      <td>0.174312</td>\n      <td>0.230769</td>\n      <td>0.038814</td>\n      <td>0.222672</td>\n      <td>0.964912</td>\n      <td>-0.001411</td>\n      <td>0.989583</td>\n    </tr>\n    <tr>\n      <th>13</th>\n      <td>(muse)</td>\n      <td>(Italy)</td>\n      <td>0.174312</td>\n      <td>0.214538</td>\n      <td>0.033874</td>\n      <td>0.194332</td>\n      <td>0.905817</td>\n      <td>-0.003522</td>\n      <td>0.974920</td>\n    </tr>\n    <tr>\n      <th>3575</th>\n      <td>(muse)</td>\n      <td>(Belgium)</td>\n      <td>0.174312</td>\n      <td>0.112915</td>\n      <td>0.015526</td>\n      <td>0.089069</td>\n      <td>0.788816</td>\n      <td>-0.004157</td>\n      <td>0.973823</td>\n    </tr>\n  </tbody>\n</table>\n</div>"
     },
     "metadata": {},
     "execution_count": 18
    }
   ],
   "source": [
    "where_else_love_muse(rules_lift_fpgrowth)"
   ]
  },
  {
   "source": [
    "Смотрим, анализируем и берём билеты в Португалию, а группе Muse подсказываем, что там можно продать больше всего билетов"
   ],
   "cell_type": "markdown",
   "metadata": {}
  },
  {
   "source": [
    "<h1>Правило 4</h1>\n",
    "В наших правилах учавствовали такие метрики как supp, conf и lify, но мы пока не использовали conviction, которая показывает частотность ошибок нашего правила. Чем результат выше 1, тем лучше, а если результат меньше 1, то наше правило ближе к исключению чем к правилу.\n",
    "Давайте на основе этой метрики выясним, в какой стране мужчинам больше нравится Muse:"
   ],
   "cell_type": "markdown",
   "metadata": {}
  },
  {
   "cell_type": "code",
   "execution_count": 19,
   "metadata": {},
   "outputs": [],
   "source": [
    "def where_f_love_muse(rules_data):\n",
    "    return rules_data[\n",
    "        (rules_data['antecedents'] == {'muse'})\n",
    "        & (rules_data['consequents'].map(lambda x: ('m' in x) & (repr(x).count(',') == 1)))\n",
    "        & ((rules_data['consequents'].map(lambda x: ('Spain' in x) | ('Portugal' in x) | ('France' in x) | ('Italy' in x) | ('Belgium' in x))))\n",
    "    ].sort_values(by='conviction', ascending=False).head(3)"
   ]
  },
  {
   "cell_type": "code",
   "execution_count": 20,
   "metadata": {},
   "outputs": [
    {
     "output_type": "execute_result",
     "data": {
      "text/plain": [
       "     antecedents  consequents  antecedent support  consequent support  \\\n",
       "2965      (muse)   (m, Spain)            0.174312            0.273112   \n",
       "2545      (muse)  (France, m)            0.174312            0.187721   \n",
       "2701      (muse)   (m, Italy)            0.174312            0.161609   \n",
       "\n",
       "       support  confidence      lift  leverage  conviction  \n",
       "2965  0.049400    0.283401  1.037672  0.001793    1.014358  \n",
       "2545  0.030346    0.174089  0.927384 -0.002376    0.983495  \n",
       "2701  0.023289    0.133603  0.826707 -0.004882    0.967676  "
      ],
      "text/html": "<div>\n<style scoped>\n    .dataframe tbody tr th:only-of-type {\n        vertical-align: middle;\n    }\n\n    .dataframe tbody tr th {\n        vertical-align: top;\n    }\n\n    .dataframe thead th {\n        text-align: right;\n    }\n</style>\n<table border=\"1\" class=\"dataframe\">\n  <thead>\n    <tr style=\"text-align: right;\">\n      <th></th>\n      <th>antecedents</th>\n      <th>consequents</th>\n      <th>antecedent support</th>\n      <th>consequent support</th>\n      <th>support</th>\n      <th>confidence</th>\n      <th>lift</th>\n      <th>leverage</th>\n      <th>conviction</th>\n    </tr>\n  </thead>\n  <tbody>\n    <tr>\n      <th>2965</th>\n      <td>(muse)</td>\n      <td>(m, Spain)</td>\n      <td>0.174312</td>\n      <td>0.273112</td>\n      <td>0.049400</td>\n      <td>0.283401</td>\n      <td>1.037672</td>\n      <td>0.001793</td>\n      <td>1.014358</td>\n    </tr>\n    <tr>\n      <th>2545</th>\n      <td>(muse)</td>\n      <td>(France, m)</td>\n      <td>0.174312</td>\n      <td>0.187721</td>\n      <td>0.030346</td>\n      <td>0.174089</td>\n      <td>0.927384</td>\n      <td>-0.002376</td>\n      <td>0.983495</td>\n    </tr>\n    <tr>\n      <th>2701</th>\n      <td>(muse)</td>\n      <td>(m, Italy)</td>\n      <td>0.174312</td>\n      <td>0.161609</td>\n      <td>0.023289</td>\n      <td>0.133603</td>\n      <td>0.826707</td>\n      <td>-0.004882</td>\n      <td>0.967676</td>\n    </tr>\n  </tbody>\n</table>\n</div>"
     },
     "metadata": {},
     "execution_count": 20
    }
   ],
   "source": [
    "where_f_love_muse(rules_lift_apriori)"
   ]
  },
  {
   "cell_type": "code",
   "execution_count": 21,
   "metadata": {},
   "outputs": [
    {
     "output_type": "execute_result",
     "data": {
      "text/plain": [
       "    antecedents  consequents  antecedent support  consequent support  \\\n",
       "19       (muse)   (Spain, m)            0.174312            0.273112   \n",
       "89       (muse)  (France, m)            0.174312            0.187721   \n",
       "141      (muse)   (m, Italy)            0.174312            0.161609   \n",
       "\n",
       "      support  confidence      lift  leverage  conviction  \n",
       "19   0.049400    0.283401  1.037672  0.001793    1.014358  \n",
       "89   0.030346    0.174089  0.927384 -0.002376    0.983495  \n",
       "141  0.023289    0.133603  0.826707 -0.004882    0.967676  "
      ],
      "text/html": "<div>\n<style scoped>\n    .dataframe tbody tr th:only-of-type {\n        vertical-align: middle;\n    }\n\n    .dataframe tbody tr th {\n        vertical-align: top;\n    }\n\n    .dataframe thead th {\n        text-align: right;\n    }\n</style>\n<table border=\"1\" class=\"dataframe\">\n  <thead>\n    <tr style=\"text-align: right;\">\n      <th></th>\n      <th>antecedents</th>\n      <th>consequents</th>\n      <th>antecedent support</th>\n      <th>consequent support</th>\n      <th>support</th>\n      <th>confidence</th>\n      <th>lift</th>\n      <th>leverage</th>\n      <th>conviction</th>\n    </tr>\n  </thead>\n  <tbody>\n    <tr>\n      <th>19</th>\n      <td>(muse)</td>\n      <td>(Spain, m)</td>\n      <td>0.174312</td>\n      <td>0.273112</td>\n      <td>0.049400</td>\n      <td>0.283401</td>\n      <td>1.037672</td>\n      <td>0.001793</td>\n      <td>1.014358</td>\n    </tr>\n    <tr>\n      <th>89</th>\n      <td>(muse)</td>\n      <td>(France, m)</td>\n      <td>0.174312</td>\n      <td>0.187721</td>\n      <td>0.030346</td>\n      <td>0.174089</td>\n      <td>0.927384</td>\n      <td>-0.002376</td>\n      <td>0.983495</td>\n    </tr>\n    <tr>\n      <th>141</th>\n      <td>(muse)</td>\n      <td>(m, Italy)</td>\n      <td>0.174312</td>\n      <td>0.161609</td>\n      <td>0.023289</td>\n      <td>0.133603</td>\n      <td>0.826707</td>\n      <td>-0.004882</td>\n      <td>0.967676</td>\n    </tr>\n  </tbody>\n</table>\n</div>"
     },
     "metadata": {},
     "execution_count": 21
    }
   ],
   "source": [
    "where_f_love_muse(rules_lift_fpgrowth)"
   ]
  },
  {
   "source": [
    "Смотрим, анализируем и если вам не нравится Португалия, то берём билеты в Испанию, ведь любители корриды и фламенко так же как и мы любят Muse <3"
   ],
   "cell_type": "markdown",
   "metadata": {}
  },
  {
   "source": [
    "<h1>Правило 5</h1>\n",
    "Теперь, когда мы знаем, что у Португальцев и Испанцев в целом смежный с нами вкус, давайте посмотрим, что ещё им нарвится, вдруг мы найдём что-то новое и свежнее для наших плейлистов:"
   ],
   "cell_type": "markdown",
   "metadata": {}
  },
  {
   "cell_type": "code",
   "execution_count": 22,
   "metadata": {},
   "outputs": [],
   "source": [
    "def spain_and_portugal_love (rules_data):\n",
    "    return rules_data[\n",
    "        ((rules_data['antecedents'] == {'Spain'}) | (rules_data['antecedents'] == {'Portugal'}))\n",
    "        & (rules_data['consequents'].map(lambda x: (repr(x).count(',') == 1) & ('muse' in x) & ('m' not in x) & ('f' not in x))\n",
    "        & (rules_data['consequents'] != {'muse'}))\n",
    "    ].sort_values(by='lift', ascending=False).head(5)"
   ]
  },
  {
   "cell_type": "code",
   "execution_count": 23,
   "metadata": {},
   "outputs": [
    {
     "output_type": "execute_result",
     "data": {
      "text/plain": [
       "     antecedents              consequents  antecedent support  \\\n",
       "5712     (Spain)      (the killers, muse)            0.355681   \n",
       "5639     (Spain)     (foo fighters, muse)            0.355681   \n",
       "5658     (Spain)  (franz ferdinand, muse)            0.355681   \n",
       "5717     (Spain)      (the strokes, muse)            0.355681   \n",
       "5675     (Spain)         (interpol, muse)            0.355681   \n",
       "\n",
       "      consequent support   support  confidence      lift  leverage  conviction  \n",
       "5712            0.049400  0.026817    0.075397  1.526247  0.009247    1.028117  \n",
       "5639            0.033169  0.017643    0.049603  1.495483  0.005845    1.017292  \n",
       "5658            0.037403  0.019054    0.053571  1.432278  0.005751    1.017084  \n",
       "5717            0.038109  0.019054    0.053571  1.405754  0.005500    1.016338  \n",
       "5675            0.040932  0.019054    0.053571  1.308805  0.004496    1.013355  "
      ],
      "text/html": "<div>\n<style scoped>\n    .dataframe tbody tr th:only-of-type {\n        vertical-align: middle;\n    }\n\n    .dataframe tbody tr th {\n        vertical-align: top;\n    }\n\n    .dataframe thead th {\n        text-align: right;\n    }\n</style>\n<table border=\"1\" class=\"dataframe\">\n  <thead>\n    <tr style=\"text-align: right;\">\n      <th></th>\n      <th>antecedents</th>\n      <th>consequents</th>\n      <th>antecedent support</th>\n      <th>consequent support</th>\n      <th>support</th>\n      <th>confidence</th>\n      <th>lift</th>\n      <th>leverage</th>\n      <th>conviction</th>\n    </tr>\n  </thead>\n  <tbody>\n    <tr>\n      <th>5712</th>\n      <td>(Spain)</td>\n      <td>(the killers, muse)</td>\n      <td>0.355681</td>\n      <td>0.049400</td>\n      <td>0.026817</td>\n      <td>0.075397</td>\n      <td>1.526247</td>\n      <td>0.009247</td>\n      <td>1.028117</td>\n    </tr>\n    <tr>\n      <th>5639</th>\n      <td>(Spain)</td>\n      <td>(foo fighters, muse)</td>\n      <td>0.355681</td>\n      <td>0.033169</td>\n      <td>0.017643</td>\n      <td>0.049603</td>\n      <td>1.495483</td>\n      <td>0.005845</td>\n      <td>1.017292</td>\n    </tr>\n    <tr>\n      <th>5658</th>\n      <td>(Spain)</td>\n      <td>(franz ferdinand, muse)</td>\n      <td>0.355681</td>\n      <td>0.037403</td>\n      <td>0.019054</td>\n      <td>0.053571</td>\n      <td>1.432278</td>\n      <td>0.005751</td>\n      <td>1.017084</td>\n    </tr>\n    <tr>\n      <th>5717</th>\n      <td>(Spain)</td>\n      <td>(the strokes, muse)</td>\n      <td>0.355681</td>\n      <td>0.038109</td>\n      <td>0.019054</td>\n      <td>0.053571</td>\n      <td>1.405754</td>\n      <td>0.005500</td>\n      <td>1.016338</td>\n    </tr>\n    <tr>\n      <th>5675</th>\n      <td>(Spain)</td>\n      <td>(interpol, muse)</td>\n      <td>0.355681</td>\n      <td>0.040932</td>\n      <td>0.019054</td>\n      <td>0.053571</td>\n      <td>1.308805</td>\n      <td>0.004496</td>\n      <td>1.013355</td>\n    </tr>\n  </tbody>\n</table>\n</div>"
     },
     "metadata": {},
     "execution_count": 23
    }
   ],
   "source": [
    "spain_and_portugal_love(rules_lift_apriori)"
   ]
  },
  {
   "cell_type": "code",
   "execution_count": 24,
   "metadata": {},
   "outputs": [
    {
     "output_type": "execute_result",
     "data": {
      "text/plain": [
       "     antecedents              consequents  antecedent support  \\\n",
       "3662     (Spain)      (the killers, muse)            0.355681   \n",
       "5265     (Spain)     (foo fighters, muse)            0.355681   \n",
       "5922     (Spain)  (franz ferdinand, muse)            0.355681   \n",
       "2393     (Spain)      (the strokes, muse)            0.355681   \n",
       "6637     (Spain)         (interpol, muse)            0.355681   \n",
       "\n",
       "      consequent support   support  confidence      lift  leverage  conviction  \n",
       "3662            0.049400  0.026817    0.075397  1.526247  0.009247    1.028117  \n",
       "5265            0.033169  0.017643    0.049603  1.495483  0.005845    1.017292  \n",
       "5922            0.037403  0.019054    0.053571  1.432278  0.005751    1.017084  \n",
       "2393            0.038109  0.019054    0.053571  1.405754  0.005500    1.016338  \n",
       "6637            0.040932  0.019054    0.053571  1.308805  0.004496    1.013355  "
      ],
      "text/html": "<div>\n<style scoped>\n    .dataframe tbody tr th:only-of-type {\n        vertical-align: middle;\n    }\n\n    .dataframe tbody tr th {\n        vertical-align: top;\n    }\n\n    .dataframe thead th {\n        text-align: right;\n    }\n</style>\n<table border=\"1\" class=\"dataframe\">\n  <thead>\n    <tr style=\"text-align: right;\">\n      <th></th>\n      <th>antecedents</th>\n      <th>consequents</th>\n      <th>antecedent support</th>\n      <th>consequent support</th>\n      <th>support</th>\n      <th>confidence</th>\n      <th>lift</th>\n      <th>leverage</th>\n      <th>conviction</th>\n    </tr>\n  </thead>\n  <tbody>\n    <tr>\n      <th>3662</th>\n      <td>(Spain)</td>\n      <td>(the killers, muse)</td>\n      <td>0.355681</td>\n      <td>0.049400</td>\n      <td>0.026817</td>\n      <td>0.075397</td>\n      <td>1.526247</td>\n      <td>0.009247</td>\n      <td>1.028117</td>\n    </tr>\n    <tr>\n      <th>5265</th>\n      <td>(Spain)</td>\n      <td>(foo fighters, muse)</td>\n      <td>0.355681</td>\n      <td>0.033169</td>\n      <td>0.017643</td>\n      <td>0.049603</td>\n      <td>1.495483</td>\n      <td>0.005845</td>\n      <td>1.017292</td>\n    </tr>\n    <tr>\n      <th>5922</th>\n      <td>(Spain)</td>\n      <td>(franz ferdinand, muse)</td>\n      <td>0.355681</td>\n      <td>0.037403</td>\n      <td>0.019054</td>\n      <td>0.053571</td>\n      <td>1.432278</td>\n      <td>0.005751</td>\n      <td>1.017084</td>\n    </tr>\n    <tr>\n      <th>2393</th>\n      <td>(Spain)</td>\n      <td>(the strokes, muse)</td>\n      <td>0.355681</td>\n      <td>0.038109</td>\n      <td>0.019054</td>\n      <td>0.053571</td>\n      <td>1.405754</td>\n      <td>0.005500</td>\n      <td>1.016338</td>\n    </tr>\n    <tr>\n      <th>6637</th>\n      <td>(Spain)</td>\n      <td>(interpol, muse)</td>\n      <td>0.355681</td>\n      <td>0.040932</td>\n      <td>0.019054</td>\n      <td>0.053571</td>\n      <td>1.308805</td>\n      <td>0.004496</td>\n      <td>1.013355</td>\n    </tr>\n  </tbody>\n</table>\n</div>"
     },
     "metadata": {},
     "execution_count": 24
    }
   ],
   "source": [
    "spain_and_portugal_love(rules_lift_fpgrowth)"
   ]
  },
  {
   "source": [
    "Смотрим, анализируем и видим знакомые имемна и названия. Кажется в правиле два мы уже добавили всех, кроме the fighters и franz ferdinand - давайте дадим шанс и им и добавим их в плейлист =)"
   ],
   "cell_type": "markdown",
   "metadata": {}
  }
 ],
 "metadata": {
  "kernelspec": {
   "display_name": "Python 3",
   "language": "python",
   "name": "python3"
  },
  "language_info": {
   "codemirror_mode": {
    "name": "ipython",
    "version": 3
   },
   "file_extension": ".py",
   "mimetype": "text/x-python",
   "name": "python",
   "nbconvert_exporter": "python",
   "pygments_lexer": "ipython3",
   "version": "3.8.0-final"
  }
 },
 "nbformat": 4,
 "nbformat_minor": 4
}