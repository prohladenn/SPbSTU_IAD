{
 "metadata": {
  "language_info": {
   "codemirror_mode": {
    "name": "ipython",
    "version": 3
   },
   "file_extension": ".py",
   "mimetype": "text/x-python",
   "name": "python",
   "nbconvert_exporter": "python",
   "pygments_lexer": "ipython3",
   "version": "3.8.0"
  },
  "orig_nbformat": 2,
  "kernelspec": {
   "name": "python3",
   "display_name": "Python 3.8.0 64-bit ('3.8.0': pyenv)",
   "metadata": {
    "interpreter": {
     "hash": "19765a07afc77596a2e5869b85cb66d522c8e44dd20913bee31a940a547aa535"
    }
   }
  }
 },
 "nbformat": 4,
 "nbformat_minor": 2,
 "cells": [
  {
   "cell_type": "code",
   "execution_count": 1,
   "metadata": {},
   "outputs": [],
   "source": [
    "import pandas as pd\n",
    "import numpy as np\n",
    "import seaborn as sns\n",
    "import matplotlib.pyplot as plt\n",
    "import sklearn.metrics as metrics\n",
    "from sklearn.metrics import matthews_corrcoef\n",
    "from sklearn.model_selection import train_test_split\n",
    "from sklearn.linear_model import LinearRegression, Lasso, Ridge, LassoCV, RidgeCV\n",
    "from sklearn.preprocessing import StandardScaler, LabelEncoder\n",
    "from sklearn.ensemble import RandomForestRegressor"
   ]
  },
  {
   "cell_type": "code",
   "execution_count": 2,
   "metadata": {},
   "outputs": [],
   "source": [
    "trd = pd.read_csv('train.csv').drop('Index', 1)\n",
    "tsd = pd.read_csv('test.csv').drop('Index', 1)"
   ]
  },
  {
   "cell_type": "code",
   "execution_count": 3,
   "metadata": {},
   "outputs": [
    {
     "output_type": "execute_result",
     "data": {
      "text/plain": [
       "   Gender  Senior Married Dependents  Tenure Phone    MultiplePhones  \\\n",
       "0  Female       0     Yes        Yes      67    No  No phone service   \n",
       "1  Female       0      No         No      34   Yes               Yes   \n",
       "2  Female       1     Yes         No      72   Yes               Yes   \n",
       "3  Female       0     Yes        Yes      63   Yes                No   \n",
       "4    Male       0     Yes        Yes      69   Yes               Yes   \n",
       "\n",
       "      Internet Security Backup Insurance Support   TV Movies  Contract  \\\n",
       "0          DSL      Yes    Yes       Yes     Yes  Yes     No  Two year   \n",
       "1          DSL      Yes    Yes        No     Yes   No     No  One year   \n",
       "2  Fiber optic      Yes    Yes       Yes     Yes   No     No  Two year   \n",
       "3          DSL      Yes    Yes       Yes     Yes   No     No  Two year   \n",
       "4  Fiber optic       No    Yes       Yes      No  Yes     No  One year   \n",
       "\n",
       "  EBilling              PaymentMethod  MonthlyCharges TotalCharges  Churn  \n",
       "0       No    Credit card (automatic)           54.20      3623.95  False  \n",
       "1      Yes               Mailed check           64.40      2088.75   True  \n",
       "2      Yes  Bank transfer (automatic)           96.60       6827.5  False  \n",
       "3       No               Mailed check           63.55       4014.2  False  \n",
       "4       No    Credit card (automatic)           95.75      6511.25  False  "
      ],
      "text/html": "<div>\n<style scoped>\n    .dataframe tbody tr th:only-of-type {\n        vertical-align: middle;\n    }\n\n    .dataframe tbody tr th {\n        vertical-align: top;\n    }\n\n    .dataframe thead th {\n        text-align: right;\n    }\n</style>\n<table border=\"1\" class=\"dataframe\">\n  <thead>\n    <tr style=\"text-align: right;\">\n      <th></th>\n      <th>Gender</th>\n      <th>Senior</th>\n      <th>Married</th>\n      <th>Dependents</th>\n      <th>Tenure</th>\n      <th>Phone</th>\n      <th>MultiplePhones</th>\n      <th>Internet</th>\n      <th>Security</th>\n      <th>Backup</th>\n      <th>Insurance</th>\n      <th>Support</th>\n      <th>TV</th>\n      <th>Movies</th>\n      <th>Contract</th>\n      <th>EBilling</th>\n      <th>PaymentMethod</th>\n      <th>MonthlyCharges</th>\n      <th>TotalCharges</th>\n      <th>Churn</th>\n    </tr>\n  </thead>\n  <tbody>\n    <tr>\n      <th>0</th>\n      <td>Female</td>\n      <td>0</td>\n      <td>Yes</td>\n      <td>Yes</td>\n      <td>67</td>\n      <td>No</td>\n      <td>No phone service</td>\n      <td>DSL</td>\n      <td>Yes</td>\n      <td>Yes</td>\n      <td>Yes</td>\n      <td>Yes</td>\n      <td>Yes</td>\n      <td>No</td>\n      <td>Two year</td>\n      <td>No</td>\n      <td>Credit card (automatic)</td>\n      <td>54.20</td>\n      <td>3623.95</td>\n      <td>False</td>\n    </tr>\n    <tr>\n      <th>1</th>\n      <td>Female</td>\n      <td>0</td>\n      <td>No</td>\n      <td>No</td>\n      <td>34</td>\n      <td>Yes</td>\n      <td>Yes</td>\n      <td>DSL</td>\n      <td>Yes</td>\n      <td>Yes</td>\n      <td>No</td>\n      <td>Yes</td>\n      <td>No</td>\n      <td>No</td>\n      <td>One year</td>\n      <td>Yes</td>\n      <td>Mailed check</td>\n      <td>64.40</td>\n      <td>2088.75</td>\n      <td>True</td>\n    </tr>\n    <tr>\n      <th>2</th>\n      <td>Female</td>\n      <td>1</td>\n      <td>Yes</td>\n      <td>No</td>\n      <td>72</td>\n      <td>Yes</td>\n      <td>Yes</td>\n      <td>Fiber optic</td>\n      <td>Yes</td>\n      <td>Yes</td>\n      <td>Yes</td>\n      <td>Yes</td>\n      <td>No</td>\n      <td>No</td>\n      <td>Two year</td>\n      <td>Yes</td>\n      <td>Bank transfer (automatic)</td>\n      <td>96.60</td>\n      <td>6827.5</td>\n      <td>False</td>\n    </tr>\n    <tr>\n      <th>3</th>\n      <td>Female</td>\n      <td>0</td>\n      <td>Yes</td>\n      <td>Yes</td>\n      <td>63</td>\n      <td>Yes</td>\n      <td>No</td>\n      <td>DSL</td>\n      <td>Yes</td>\n      <td>Yes</td>\n      <td>Yes</td>\n      <td>Yes</td>\n      <td>No</td>\n      <td>No</td>\n      <td>Two year</td>\n      <td>No</td>\n      <td>Mailed check</td>\n      <td>63.55</td>\n      <td>4014.2</td>\n      <td>False</td>\n    </tr>\n    <tr>\n      <th>4</th>\n      <td>Male</td>\n      <td>0</td>\n      <td>Yes</td>\n      <td>Yes</td>\n      <td>69</td>\n      <td>Yes</td>\n      <td>Yes</td>\n      <td>Fiber optic</td>\n      <td>No</td>\n      <td>Yes</td>\n      <td>Yes</td>\n      <td>No</td>\n      <td>Yes</td>\n      <td>No</td>\n      <td>One year</td>\n      <td>No</td>\n      <td>Credit card (automatic)</td>\n      <td>95.75</td>\n      <td>6511.25</td>\n      <td>False</td>\n    </tr>\n  </tbody>\n</table>\n</div>"
     },
     "metadata": {},
     "execution_count": 3
    }
   ],
   "source": [
    "trd.head()"
   ]
  },
  {
   "cell_type": "code",
   "execution_count": 4,
   "metadata": {},
   "outputs": [
    {
     "output_type": "execute_result",
     "data": {
      "text/plain": [
       "      Senior  Married  Dependents  Tenure  Phone  MultiplePhones  Security  \\\n",
       "0          0        1           1      67      0               0         1   \n",
       "1          0        0           0      34      1               1         1   \n",
       "2          1        1           0      72      1               1         1   \n",
       "3          0        1           1      63      1               0         1   \n",
       "4          0        1           1      69      1               1         0   \n",
       "...      ...      ...         ...     ...    ...             ...       ...   \n",
       "3586       0        0           0       5      1               0         0   \n",
       "3587       0        1           1      71      1               0         1   \n",
       "3588       0        1           0      68      1               1         0   \n",
       "3589       0        1           1      12      1               0         0   \n",
       "3590       1        0           0       8      1               0         0   \n",
       "\n",
       "      Backup  Insurance  Support  ...  PaymentMethod  MonthlyCharges  \\\n",
       "0          1          1        1  ...              1           54.20   \n",
       "1          1          0        1  ...              0           64.40   \n",
       "2          1          1        1  ...              1           96.60   \n",
       "3          1          1        1  ...              0           63.55   \n",
       "4          1          1        0  ...              1           95.75   \n",
       "...      ...        ...      ...  ...            ...             ...   \n",
       "3586       0          0        0  ...              0           80.20   \n",
       "3587       0          1        0  ...              1           77.55   \n",
       "3588       1          1        0  ...              1           86.45   \n",
       "3589       0          1        0  ...              1           58.35   \n",
       "3590       0          0        0  ...              0           69.70   \n",
       "\n",
       "      TotalCharges  Churn  Internet_DSL Internet_Fiber optic  Internet_No  \\\n",
       "0          3623.95  False             1                    0            0   \n",
       "1          2088.75   True             1                    0            0   \n",
       "2           6827.5  False             0                    1            0   \n",
       "3           4014.2  False             1                    0            0   \n",
       "4          6511.25  False             0                    1            0   \n",
       "...            ...    ...           ...                  ...          ...   \n",
       "3586        384.25  False             0                    1            0   \n",
       "3587       5574.35  False             1                    0            0   \n",
       "3588       5762.95  False             0                    1            0   \n",
       "3589        740.55  False             1                    0            0   \n",
       "3590        572.85  False             0                    1            0   \n",
       "\n",
       "      Contract_Month-to-month  Contract_One year  Contract_Two year  \n",
       "0                           0                  0                  1  \n",
       "1                           0                  1                  0  \n",
       "2                           0                  0                  1  \n",
       "3                           0                  0                  1  \n",
       "4                           0                  1                  0  \n",
       "...                       ...                ...                ...  \n",
       "3586                        1                  0                  0  \n",
       "3587                        0                  0                  1  \n",
       "3588                        0                  1                  0  \n",
       "3589                        1                  0                  0  \n",
       "3590                        1                  0                  0  \n",
       "\n",
       "[3591 rows x 23 columns]"
      ],
      "text/html": "<div>\n<style scoped>\n    .dataframe tbody tr th:only-of-type {\n        vertical-align: middle;\n    }\n\n    .dataframe tbody tr th {\n        vertical-align: top;\n    }\n\n    .dataframe thead th {\n        text-align: right;\n    }\n</style>\n<table border=\"1\" class=\"dataframe\">\n  <thead>\n    <tr style=\"text-align: right;\">\n      <th></th>\n      <th>Senior</th>\n      <th>Married</th>\n      <th>Dependents</th>\n      <th>Tenure</th>\n      <th>Phone</th>\n      <th>MultiplePhones</th>\n      <th>Security</th>\n      <th>Backup</th>\n      <th>Insurance</th>\n      <th>Support</th>\n      <th>...</th>\n      <th>PaymentMethod</th>\n      <th>MonthlyCharges</th>\n      <th>TotalCharges</th>\n      <th>Churn</th>\n      <th>Internet_DSL</th>\n      <th>Internet_Fiber optic</th>\n      <th>Internet_No</th>\n      <th>Contract_Month-to-month</th>\n      <th>Contract_One year</th>\n      <th>Contract_Two year</th>\n    </tr>\n  </thead>\n  <tbody>\n    <tr>\n      <th>0</th>\n      <td>0</td>\n      <td>1</td>\n      <td>1</td>\n      <td>67</td>\n      <td>0</td>\n      <td>0</td>\n      <td>1</td>\n      <td>1</td>\n      <td>1</td>\n      <td>1</td>\n      <td>...</td>\n      <td>1</td>\n      <td>54.20</td>\n      <td>3623.95</td>\n      <td>False</td>\n      <td>1</td>\n      <td>0</td>\n      <td>0</td>\n      <td>0</td>\n      <td>0</td>\n      <td>1</td>\n    </tr>\n    <tr>\n      <th>1</th>\n      <td>0</td>\n      <td>0</td>\n      <td>0</td>\n      <td>34</td>\n      <td>1</td>\n      <td>1</td>\n      <td>1</td>\n      <td>1</td>\n      <td>0</td>\n      <td>1</td>\n      <td>...</td>\n      <td>0</td>\n      <td>64.40</td>\n      <td>2088.75</td>\n      <td>True</td>\n      <td>1</td>\n      <td>0</td>\n      <td>0</td>\n      <td>0</td>\n      <td>1</td>\n      <td>0</td>\n    </tr>\n    <tr>\n      <th>2</th>\n      <td>1</td>\n      <td>1</td>\n      <td>0</td>\n      <td>72</td>\n      <td>1</td>\n      <td>1</td>\n      <td>1</td>\n      <td>1</td>\n      <td>1</td>\n      <td>1</td>\n      <td>...</td>\n      <td>1</td>\n      <td>96.60</td>\n      <td>6827.5</td>\n      <td>False</td>\n      <td>0</td>\n      <td>1</td>\n      <td>0</td>\n      <td>0</td>\n      <td>0</td>\n      <td>1</td>\n    </tr>\n    <tr>\n      <th>3</th>\n      <td>0</td>\n      <td>1</td>\n      <td>1</td>\n      <td>63</td>\n      <td>1</td>\n      <td>0</td>\n      <td>1</td>\n      <td>1</td>\n      <td>1</td>\n      <td>1</td>\n      <td>...</td>\n      <td>0</td>\n      <td>63.55</td>\n      <td>4014.2</td>\n      <td>False</td>\n      <td>1</td>\n      <td>0</td>\n      <td>0</td>\n      <td>0</td>\n      <td>0</td>\n      <td>1</td>\n    </tr>\n    <tr>\n      <th>4</th>\n      <td>0</td>\n      <td>1</td>\n      <td>1</td>\n      <td>69</td>\n      <td>1</td>\n      <td>1</td>\n      <td>0</td>\n      <td>1</td>\n      <td>1</td>\n      <td>0</td>\n      <td>...</td>\n      <td>1</td>\n      <td>95.75</td>\n      <td>6511.25</td>\n      <td>False</td>\n      <td>0</td>\n      <td>1</td>\n      <td>0</td>\n      <td>0</td>\n      <td>1</td>\n      <td>0</td>\n    </tr>\n    <tr>\n      <th>...</th>\n      <td>...</td>\n      <td>...</td>\n      <td>...</td>\n      <td>...</td>\n      <td>...</td>\n      <td>...</td>\n      <td>...</td>\n      <td>...</td>\n      <td>...</td>\n      <td>...</td>\n      <td>...</td>\n      <td>...</td>\n      <td>...</td>\n      <td>...</td>\n      <td>...</td>\n      <td>...</td>\n      <td>...</td>\n      <td>...</td>\n      <td>...</td>\n      <td>...</td>\n      <td>...</td>\n    </tr>\n    <tr>\n      <th>3586</th>\n      <td>0</td>\n      <td>0</td>\n      <td>0</td>\n      <td>5</td>\n      <td>1</td>\n      <td>0</td>\n      <td>0</td>\n      <td>0</td>\n      <td>0</td>\n      <td>0</td>\n      <td>...</td>\n      <td>0</td>\n      <td>80.20</td>\n      <td>384.25</td>\n      <td>False</td>\n      <td>0</td>\n      <td>1</td>\n      <td>0</td>\n      <td>1</td>\n      <td>0</td>\n      <td>0</td>\n    </tr>\n    <tr>\n      <th>3587</th>\n      <td>0</td>\n      <td>1</td>\n      <td>1</td>\n      <td>71</td>\n      <td>1</td>\n      <td>0</td>\n      <td>1</td>\n      <td>0</td>\n      <td>1</td>\n      <td>0</td>\n      <td>...</td>\n      <td>1</td>\n      <td>77.55</td>\n      <td>5574.35</td>\n      <td>False</td>\n      <td>1</td>\n      <td>0</td>\n      <td>0</td>\n      <td>0</td>\n      <td>0</td>\n      <td>1</td>\n    </tr>\n    <tr>\n      <th>3588</th>\n      <td>0</td>\n      <td>1</td>\n      <td>0</td>\n      <td>68</td>\n      <td>1</td>\n      <td>1</td>\n      <td>0</td>\n      <td>1</td>\n      <td>1</td>\n      <td>0</td>\n      <td>...</td>\n      <td>1</td>\n      <td>86.45</td>\n      <td>5762.95</td>\n      <td>False</td>\n      <td>0</td>\n      <td>1</td>\n      <td>0</td>\n      <td>0</td>\n      <td>1</td>\n      <td>0</td>\n    </tr>\n    <tr>\n      <th>3589</th>\n      <td>0</td>\n      <td>1</td>\n      <td>1</td>\n      <td>12</td>\n      <td>1</td>\n      <td>0</td>\n      <td>0</td>\n      <td>0</td>\n      <td>1</td>\n      <td>0</td>\n      <td>...</td>\n      <td>1</td>\n      <td>58.35</td>\n      <td>740.55</td>\n      <td>False</td>\n      <td>1</td>\n      <td>0</td>\n      <td>0</td>\n      <td>1</td>\n      <td>0</td>\n      <td>0</td>\n    </tr>\n    <tr>\n      <th>3590</th>\n      <td>1</td>\n      <td>0</td>\n      <td>0</td>\n      <td>8</td>\n      <td>1</td>\n      <td>0</td>\n      <td>0</td>\n      <td>0</td>\n      <td>0</td>\n      <td>0</td>\n      <td>...</td>\n      <td>0</td>\n      <td>69.70</td>\n      <td>572.85</td>\n      <td>False</td>\n      <td>0</td>\n      <td>1</td>\n      <td>0</td>\n      <td>1</td>\n      <td>0</td>\n      <td>0</td>\n    </tr>\n  </tbody>\n</table>\n<p>3591 rows × 23 columns</p>\n</div>"
     },
     "metadata": {},
     "execution_count": 4
    }
   ],
   "source": [
    "trdwd = pd.concat([\n",
    "    trd.drop(['Gender', 'Internet', 'Contract'], axis=1),\n",
    "\n",
    "    pd.get_dummies(trd['Internet'], prefix='Internet'),    \n",
    "    pd.get_dummies(trd['Contract'], prefix='Contract')\n",
    "], axis = 1)\n",
    "\n",
    "trdwd = trdwd.replace(['Electronic check', 'Mailed check'], 0)\n",
    "trdwd = trdwd.replace(['Bank transfer (automatic)', 'Credit card (automatic)'], 1)\n",
    "\n",
    "trdwd = trdwd.replace(['No phone service', 'No internet service'], 0)\n",
    "\n",
    "trdwd = trdwd.replace(['Yes', True, 'True'], 1)\n",
    "trdwd = trdwd.replace(['No', False, 'False'], 0)\n",
    "trdwd = trdwd.replace(['', ' '], 0)\n",
    "\n",
    "trdwd"
   ]
  },
  {
   "cell_type": "code",
   "execution_count": 5,
   "metadata": {},
   "outputs": [
    {
     "output_type": "execute_result",
     "data": {
      "text/plain": [
       "array([ 0.3133548 ,  0.4121191 ,  0.0262982 , ...,  0.12974591,\n",
       "       -0.04490316,  0.18967797])"
      ]
     },
     "metadata": {},
     "execution_count": 5
    }
   ],
   "source": [
    "X, Y = trdwd.drop(['Churn'], axis=1), trdwd['Churn']\n",
    "X_train, X_test, Y_train, Y_test = train_test_split(X, Y, test_size=0.3, random_state=10)\n",
    "\n",
    "# model = RandomForestRegressor(random_state = 10, n_estimators = 100)\n",
    "# model.fit(X_train, Y_train)\n",
    "# predictions = model.predict(X_test)\n",
    "# predictions\n",
    "\n",
    "# lasso = Lasso()\n",
    "# lasso.fit(X_train, Y_train)\n",
    "# predictions = lasso.predict(X_test)\n",
    "# predictions\n",
    "\n",
    "ridge = Ridge()\n",
    "ridge.fit(X_train, Y_train)\n",
    "predictions = ridge.predict(X_test)\n",
    "predictions"
   ]
  },
  {
   "cell_type": "code",
   "execution_count": 6,
   "metadata": {},
   "outputs": [],
   "source": [
    "act = list(map(lambda x: True if x > 0.5 else False, predictions))"
   ]
  },
  {
   "cell_type": "code",
   "execution_count": 7,
   "metadata": {},
   "outputs": [
    {
     "output_type": "execute_result",
     "data": {
      "text/plain": [
       "0.43183202214261557"
      ]
     },
     "metadata": {},
     "execution_count": 7
    }
   ],
   "source": [
    "exp = list(Y_test)\n",
    "matthews_corrcoef(act, exp)"
   ]
  },
  {
   "cell_type": "code",
   "execution_count": 8,
   "metadata": {},
   "outputs": [],
   "source": [
    "# tt = 0\n",
    "# tf = 0\n",
    "# ff = 0\n",
    "# ft = 0\n",
    "# for i in range(len(act)):\n",
    "#     if bool(act[i]) and bool(exp[i]):\n",
    "#         tt += 1\n",
    "#     if bool(act[i]) and not bool(exp[i]):\n",
    "#         tf += 1\n",
    "#     if not bool(act[i]) and not bool(exp[i]):\n",
    "#         ff += 1\n",
    "#     if not bool(act[i]) and bool(exp[i]):\n",
    "#         ft += 1\n",
    "\n",
    "# print('tt: ', tt/len(act)) \n",
    "# print('ff: ', ff/len(act))\n",
    "# print('tf: ', tf/len(act))\n",
    "# print('ft: ', ft/len(act))\n",
    "# print('!: ', (tt + ff) / len(act))"
   ]
  },
  {
   "cell_type": "code",
   "execution_count": 9,
   "metadata": {},
   "outputs": [
    {
     "output_type": "execute_result",
     "data": {
      "text/plain": [
       "   Gender  Senior Married Dependents  Tenure Phone MultiplePhones  \\\n",
       "0    Male       0      No         No      58   Yes             No   \n",
       "1  Female       0     Yes        Yes      26   Yes             No   \n",
       "2  Female       0      No         No      26   Yes             No   \n",
       "3    Male       0      No         No      12   Yes            Yes   \n",
       "4  Female       0      No         No       1   Yes            Yes   \n",
       "\n",
       "      Internet Security Backup Insurance Support   TV Movies        Contract  \\\n",
       "0  Fiber optic      Yes    Yes        No      No  Yes    Yes        One year   \n",
       "1  Fiber optic       No     No        No      No  Yes    Yes  Month-to-month   \n",
       "2  Fiber optic      Yes     No       Yes     Yes   No     No        One year   \n",
       "3          DSL      Yes    Yes        No     Yes   No     No  Month-to-month   \n",
       "4  Fiber optic       No     No        No      No   No     No  Month-to-month   \n",
       "\n",
       "  EBilling              PaymentMethod  MonthlyCharges TotalCharges  \n",
       "0       No  Bank transfer (automatic)           99.15      5720.95  \n",
       "1      Yes           Electronic check           90.80       2361.8  \n",
       "2      Yes    Credit card (automatic)           87.15       2274.1  \n",
       "3      Yes           Electronic check           67.25        832.3  \n",
       "4      Yes               Mailed check           75.05        75.05  "
      ],
      "text/html": "<div>\n<style scoped>\n    .dataframe tbody tr th:only-of-type {\n        vertical-align: middle;\n    }\n\n    .dataframe tbody tr th {\n        vertical-align: top;\n    }\n\n    .dataframe thead th {\n        text-align: right;\n    }\n</style>\n<table border=\"1\" class=\"dataframe\">\n  <thead>\n    <tr style=\"text-align: right;\">\n      <th></th>\n      <th>Gender</th>\n      <th>Senior</th>\n      <th>Married</th>\n      <th>Dependents</th>\n      <th>Tenure</th>\n      <th>Phone</th>\n      <th>MultiplePhones</th>\n      <th>Internet</th>\n      <th>Security</th>\n      <th>Backup</th>\n      <th>Insurance</th>\n      <th>Support</th>\n      <th>TV</th>\n      <th>Movies</th>\n      <th>Contract</th>\n      <th>EBilling</th>\n      <th>PaymentMethod</th>\n      <th>MonthlyCharges</th>\n      <th>TotalCharges</th>\n    </tr>\n  </thead>\n  <tbody>\n    <tr>\n      <th>0</th>\n      <td>Male</td>\n      <td>0</td>\n      <td>No</td>\n      <td>No</td>\n      <td>58</td>\n      <td>Yes</td>\n      <td>No</td>\n      <td>Fiber optic</td>\n      <td>Yes</td>\n      <td>Yes</td>\n      <td>No</td>\n      <td>No</td>\n      <td>Yes</td>\n      <td>Yes</td>\n      <td>One year</td>\n      <td>No</td>\n      <td>Bank transfer (automatic)</td>\n      <td>99.15</td>\n      <td>5720.95</td>\n    </tr>\n    <tr>\n      <th>1</th>\n      <td>Female</td>\n      <td>0</td>\n      <td>Yes</td>\n      <td>Yes</td>\n      <td>26</td>\n      <td>Yes</td>\n      <td>No</td>\n      <td>Fiber optic</td>\n      <td>No</td>\n      <td>No</td>\n      <td>No</td>\n      <td>No</td>\n      <td>Yes</td>\n      <td>Yes</td>\n      <td>Month-to-month</td>\n      <td>Yes</td>\n      <td>Electronic check</td>\n      <td>90.80</td>\n      <td>2361.8</td>\n    </tr>\n    <tr>\n      <th>2</th>\n      <td>Female</td>\n      <td>0</td>\n      <td>No</td>\n      <td>No</td>\n      <td>26</td>\n      <td>Yes</td>\n      <td>No</td>\n      <td>Fiber optic</td>\n      <td>Yes</td>\n      <td>No</td>\n      <td>Yes</td>\n      <td>Yes</td>\n      <td>No</td>\n      <td>No</td>\n      <td>One year</td>\n      <td>Yes</td>\n      <td>Credit card (automatic)</td>\n      <td>87.15</td>\n      <td>2274.1</td>\n    </tr>\n    <tr>\n      <th>3</th>\n      <td>Male</td>\n      <td>0</td>\n      <td>No</td>\n      <td>No</td>\n      <td>12</td>\n      <td>Yes</td>\n      <td>Yes</td>\n      <td>DSL</td>\n      <td>Yes</td>\n      <td>Yes</td>\n      <td>No</td>\n      <td>Yes</td>\n      <td>No</td>\n      <td>No</td>\n      <td>Month-to-month</td>\n      <td>Yes</td>\n      <td>Electronic check</td>\n      <td>67.25</td>\n      <td>832.3</td>\n    </tr>\n    <tr>\n      <th>4</th>\n      <td>Female</td>\n      <td>0</td>\n      <td>No</td>\n      <td>No</td>\n      <td>1</td>\n      <td>Yes</td>\n      <td>Yes</td>\n      <td>Fiber optic</td>\n      <td>No</td>\n      <td>No</td>\n      <td>No</td>\n      <td>No</td>\n      <td>No</td>\n      <td>No</td>\n      <td>Month-to-month</td>\n      <td>Yes</td>\n      <td>Mailed check</td>\n      <td>75.05</td>\n      <td>75.05</td>\n    </tr>\n  </tbody>\n</table>\n</div>"
     },
     "metadata": {},
     "execution_count": 9
    }
   ],
   "source": [
    "tsd.head()"
   ]
  },
  {
   "cell_type": "code",
   "execution_count": 10,
   "metadata": {},
   "outputs": [
    {
     "output_type": "execute_result",
     "data": {
      "text/plain": [
       "      Senior  Married  Dependents  Tenure  Phone  MultiplePhones  Security  \\\n",
       "0          0        0           0      58      1               0         1   \n",
       "1          0        1           1      26      1               0         0   \n",
       "2          0        0           0      26      1               0         1   \n",
       "3          0        0           0      12      1               1         1   \n",
       "4          0        0           0       1      1               1         0   \n",
       "...      ...      ...         ...     ...    ...             ...       ...   \n",
       "2390       0        0           0      62      0               0         1   \n",
       "2391       0        1           0       2      1               0         0   \n",
       "2392       0        1           1      23      1               1         0   \n",
       "2393       1        1           0      53      1               1         0   \n",
       "2394       0        0           0      30      1               1         1   \n",
       "\n",
       "      Backup  Insurance  Support  ...  EBilling  PaymentMethod  \\\n",
       "0          1          0        0  ...         0              1   \n",
       "1          0          0        0  ...         1              0   \n",
       "2          0          1        1  ...         1              1   \n",
       "3          1          0        1  ...         1              0   \n",
       "4          0          0        0  ...         1              0   \n",
       "...      ...        ...      ...  ...       ...            ...   \n",
       "2390       1          1        1  ...         1              1   \n",
       "2391       0          0        0  ...         0              1   \n",
       "2392       0          0        0  ...         1              0   \n",
       "2393       1          0        0  ...         1              0   \n",
       "2394       0          0        1  ...         0              1   \n",
       "\n",
       "      MonthlyCharges  TotalCharges  Internet_DSL Internet_Fiber optic  \\\n",
       "0              99.15       5720.95             0                    1   \n",
       "1              90.80        2361.8             0                    1   \n",
       "2              87.15        2274.1             0                    1   \n",
       "3              67.25         832.3             1                    0   \n",
       "4              75.05         75.05             0                    1   \n",
       "...              ...           ...           ...                  ...   \n",
       "2390           43.70        2618.3             1                    0   \n",
       "2391           20.10         43.15             0                    0   \n",
       "2392           83.75       1849.95             0                    1   \n",
       "2393          101.90        5549.4             0                    1   \n",
       "2394          106.40        3211.9             0                    1   \n",
       "\n",
       "      Internet_No  Contract_Month-to-month  Contract_One year  \\\n",
       "0               0                        0                  1   \n",
       "1               0                        1                  0   \n",
       "2               0                        0                  1   \n",
       "3               0                        1                  0   \n",
       "4               0                        1                  0   \n",
       "...           ...                      ...                ...   \n",
       "2390            0                        0                  0   \n",
       "2391            1                        1                  0   \n",
       "2392            0                        1                  0   \n",
       "2393            0                        1                  0   \n",
       "2394            0                        1                  0   \n",
       "\n",
       "      Contract_Two year  \n",
       "0                     0  \n",
       "1                     0  \n",
       "2                     0  \n",
       "3                     0  \n",
       "4                     0  \n",
       "...                 ...  \n",
       "2390                  1  \n",
       "2391                  0  \n",
       "2392                  0  \n",
       "2393                  0  \n",
       "2394                  0  \n",
       "\n",
       "[2395 rows x 22 columns]"
      ],
      "text/html": "<div>\n<style scoped>\n    .dataframe tbody tr th:only-of-type {\n        vertical-align: middle;\n    }\n\n    .dataframe tbody tr th {\n        vertical-align: top;\n    }\n\n    .dataframe thead th {\n        text-align: right;\n    }\n</style>\n<table border=\"1\" class=\"dataframe\">\n  <thead>\n    <tr style=\"text-align: right;\">\n      <th></th>\n      <th>Senior</th>\n      <th>Married</th>\n      <th>Dependents</th>\n      <th>Tenure</th>\n      <th>Phone</th>\n      <th>MultiplePhones</th>\n      <th>Security</th>\n      <th>Backup</th>\n      <th>Insurance</th>\n      <th>Support</th>\n      <th>...</th>\n      <th>EBilling</th>\n      <th>PaymentMethod</th>\n      <th>MonthlyCharges</th>\n      <th>TotalCharges</th>\n      <th>Internet_DSL</th>\n      <th>Internet_Fiber optic</th>\n      <th>Internet_No</th>\n      <th>Contract_Month-to-month</th>\n      <th>Contract_One year</th>\n      <th>Contract_Two year</th>\n    </tr>\n  </thead>\n  <tbody>\n    <tr>\n      <th>0</th>\n      <td>0</td>\n      <td>0</td>\n      <td>0</td>\n      <td>58</td>\n      <td>1</td>\n      <td>0</td>\n      <td>1</td>\n      <td>1</td>\n      <td>0</td>\n      <td>0</td>\n      <td>...</td>\n      <td>0</td>\n      <td>1</td>\n      <td>99.15</td>\n      <td>5720.95</td>\n      <td>0</td>\n      <td>1</td>\n      <td>0</td>\n      <td>0</td>\n      <td>1</td>\n      <td>0</td>\n    </tr>\n    <tr>\n      <th>1</th>\n      <td>0</td>\n      <td>1</td>\n      <td>1</td>\n      <td>26</td>\n      <td>1</td>\n      <td>0</td>\n      <td>0</td>\n      <td>0</td>\n      <td>0</td>\n      <td>0</td>\n      <td>...</td>\n      <td>1</td>\n      <td>0</td>\n      <td>90.80</td>\n      <td>2361.8</td>\n      <td>0</td>\n      <td>1</td>\n      <td>0</td>\n      <td>1</td>\n      <td>0</td>\n      <td>0</td>\n    </tr>\n    <tr>\n      <th>2</th>\n      <td>0</td>\n      <td>0</td>\n      <td>0</td>\n      <td>26</td>\n      <td>1</td>\n      <td>0</td>\n      <td>1</td>\n      <td>0</td>\n      <td>1</td>\n      <td>1</td>\n      <td>...</td>\n      <td>1</td>\n      <td>1</td>\n      <td>87.15</td>\n      <td>2274.1</td>\n      <td>0</td>\n      <td>1</td>\n      <td>0</td>\n      <td>0</td>\n      <td>1</td>\n      <td>0</td>\n    </tr>\n    <tr>\n      <th>3</th>\n      <td>0</td>\n      <td>0</td>\n      <td>0</td>\n      <td>12</td>\n      <td>1</td>\n      <td>1</td>\n      <td>1</td>\n      <td>1</td>\n      <td>0</td>\n      <td>1</td>\n      <td>...</td>\n      <td>1</td>\n      <td>0</td>\n      <td>67.25</td>\n      <td>832.3</td>\n      <td>1</td>\n      <td>0</td>\n      <td>0</td>\n      <td>1</td>\n      <td>0</td>\n      <td>0</td>\n    </tr>\n    <tr>\n      <th>4</th>\n      <td>0</td>\n      <td>0</td>\n      <td>0</td>\n      <td>1</td>\n      <td>1</td>\n      <td>1</td>\n      <td>0</td>\n      <td>0</td>\n      <td>0</td>\n      <td>0</td>\n      <td>...</td>\n      <td>1</td>\n      <td>0</td>\n      <td>75.05</td>\n      <td>75.05</td>\n      <td>0</td>\n      <td>1</td>\n      <td>0</td>\n      <td>1</td>\n      <td>0</td>\n      <td>0</td>\n    </tr>\n    <tr>\n      <th>...</th>\n      <td>...</td>\n      <td>...</td>\n      <td>...</td>\n      <td>...</td>\n      <td>...</td>\n      <td>...</td>\n      <td>...</td>\n      <td>...</td>\n      <td>...</td>\n      <td>...</td>\n      <td>...</td>\n      <td>...</td>\n      <td>...</td>\n      <td>...</td>\n      <td>...</td>\n      <td>...</td>\n      <td>...</td>\n      <td>...</td>\n      <td>...</td>\n      <td>...</td>\n      <td>...</td>\n    </tr>\n    <tr>\n      <th>2390</th>\n      <td>0</td>\n      <td>0</td>\n      <td>0</td>\n      <td>62</td>\n      <td>0</td>\n      <td>0</td>\n      <td>1</td>\n      <td>1</td>\n      <td>1</td>\n      <td>1</td>\n      <td>...</td>\n      <td>1</td>\n      <td>1</td>\n      <td>43.70</td>\n      <td>2618.3</td>\n      <td>1</td>\n      <td>0</td>\n      <td>0</td>\n      <td>0</td>\n      <td>0</td>\n      <td>1</td>\n    </tr>\n    <tr>\n      <th>2391</th>\n      <td>0</td>\n      <td>1</td>\n      <td>0</td>\n      <td>2</td>\n      <td>1</td>\n      <td>0</td>\n      <td>0</td>\n      <td>0</td>\n      <td>0</td>\n      <td>0</td>\n      <td>...</td>\n      <td>0</td>\n      <td>1</td>\n      <td>20.10</td>\n      <td>43.15</td>\n      <td>0</td>\n      <td>0</td>\n      <td>1</td>\n      <td>1</td>\n      <td>0</td>\n      <td>0</td>\n    </tr>\n    <tr>\n      <th>2392</th>\n      <td>0</td>\n      <td>1</td>\n      <td>1</td>\n      <td>23</td>\n      <td>1</td>\n      <td>1</td>\n      <td>0</td>\n      <td>0</td>\n      <td>0</td>\n      <td>0</td>\n      <td>...</td>\n      <td>1</td>\n      <td>0</td>\n      <td>83.75</td>\n      <td>1849.95</td>\n      <td>0</td>\n      <td>1</td>\n      <td>0</td>\n      <td>1</td>\n      <td>0</td>\n      <td>0</td>\n    </tr>\n    <tr>\n      <th>2393</th>\n      <td>1</td>\n      <td>1</td>\n      <td>0</td>\n      <td>53</td>\n      <td>1</td>\n      <td>1</td>\n      <td>0</td>\n      <td>1</td>\n      <td>0</td>\n      <td>0</td>\n      <td>...</td>\n      <td>1</td>\n      <td>0</td>\n      <td>101.90</td>\n      <td>5549.4</td>\n      <td>0</td>\n      <td>1</td>\n      <td>0</td>\n      <td>1</td>\n      <td>0</td>\n      <td>0</td>\n    </tr>\n    <tr>\n      <th>2394</th>\n      <td>0</td>\n      <td>0</td>\n      <td>0</td>\n      <td>30</td>\n      <td>1</td>\n      <td>1</td>\n      <td>1</td>\n      <td>0</td>\n      <td>0</td>\n      <td>1</td>\n      <td>...</td>\n      <td>0</td>\n      <td>1</td>\n      <td>106.40</td>\n      <td>3211.9</td>\n      <td>0</td>\n      <td>1</td>\n      <td>0</td>\n      <td>1</td>\n      <td>0</td>\n      <td>0</td>\n    </tr>\n  </tbody>\n</table>\n<p>2395 rows × 22 columns</p>\n</div>"
     },
     "metadata": {},
     "execution_count": 10
    }
   ],
   "source": [
    "tsdwd = pd.concat([\n",
    "    tsd.drop(['Gender', 'Internet', 'Contract'], axis=1),\n",
    "\n",
    "    pd.get_dummies(tsd['Internet'], prefix='Internet'),    \n",
    "    pd.get_dummies(tsd['Contract'], prefix='Contract'),\n",
    "], axis = 1)\n",
    "\n",
    "tsdwd = tsdwd.replace(['Electronic check', 'Mailed check'], 0)\n",
    "tsdwd = tsdwd.replace(['Bank transfer (automatic)', 'Credit card (automatic)'], 1)\n",
    "\n",
    "tsdwd = tsdwd.replace(['No phone service', 'No internet service'], 0)\n",
    "\n",
    "tsdwd = tsdwd.replace(['Yes', True, 'True'], 1)\n",
    "tsdwd = tsdwd.replace(['No', False, 'False'], 0)\n",
    "tsdwd = tsdwd.replace(['', ' '], 0)\n",
    "\n",
    "tsdwd"
   ]
  },
  {
   "cell_type": "code",
   "execution_count": 11,
   "metadata": {},
   "outputs": [
    {
     "output_type": "execute_result",
     "data": {
      "text/plain": [
       "array([0.05317277, 0.55048742, 0.20976061, ..., 0.57086526, 0.47008673,\n",
       "       0.35630397])"
      ]
     },
     "metadata": {},
     "execution_count": 11
    }
   ],
   "source": [
    "predictions_finally = ridge.predict(tsdwd)\n",
    "predictions_finally"
   ]
  },
  {
   "cell_type": "code",
   "execution_count": 12,
   "metadata": {},
   "outputs": [
    {
     "output_type": "execute_result",
     "data": {
      "text/plain": [
       "          0\n",
       "0     False\n",
       "1      True\n",
       "2     False\n",
       "3     False\n",
       "4      True\n",
       "...     ...\n",
       "2390  False\n",
       "2391  False\n",
       "2392   True\n",
       "2393   True\n",
       "2394  False\n",
       "\n",
       "[2395 rows x 1 columns]"
      ],
      "text/html": "<div>\n<style scoped>\n    .dataframe tbody tr th:only-of-type {\n        vertical-align: middle;\n    }\n\n    .dataframe tbody tr th {\n        vertical-align: top;\n    }\n\n    .dataframe thead th {\n        text-align: right;\n    }\n</style>\n<table border=\"1\" class=\"dataframe\">\n  <thead>\n    <tr style=\"text-align: right;\">\n      <th></th>\n      <th>0</th>\n    </tr>\n  </thead>\n  <tbody>\n    <tr>\n      <th>0</th>\n      <td>False</td>\n    </tr>\n    <tr>\n      <th>1</th>\n      <td>True</td>\n    </tr>\n    <tr>\n      <th>2</th>\n      <td>False</td>\n    </tr>\n    <tr>\n      <th>3</th>\n      <td>False</td>\n    </tr>\n    <tr>\n      <th>4</th>\n      <td>True</td>\n    </tr>\n    <tr>\n      <th>...</th>\n      <td>...</td>\n    </tr>\n    <tr>\n      <th>2390</th>\n      <td>False</td>\n    </tr>\n    <tr>\n      <th>2391</th>\n      <td>False</td>\n    </tr>\n    <tr>\n      <th>2392</th>\n      <td>True</td>\n    </tr>\n    <tr>\n      <th>2393</th>\n      <td>True</td>\n    </tr>\n    <tr>\n      <th>2394</th>\n      <td>False</td>\n    </tr>\n  </tbody>\n</table>\n<p>2395 rows × 1 columns</p>\n</div>"
     },
     "metadata": {},
     "execution_count": 12
    }
   ],
   "source": [
    "act = list(map(lambda x: True if x > 0.46 else False, predictions_finally))\n",
    "df = pd.DataFrame(act)\n",
    "df"
   ]
  },
  {
   "cell_type": "code",
   "execution_count": 13,
   "metadata": {},
   "outputs": [],
   "source": [
    "df.to_csv('out.csv', index=True)"
   ]
  }
 ]
}